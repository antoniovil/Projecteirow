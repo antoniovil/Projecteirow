{
 "cells": [
  {
   "cell_type": "markdown",
   "id": "57b1d0de",
   "metadata": {},
   "source": [
    "**Cleaning Continues - Hillary Clinton Tweets**\n",
    "\n",
    "    1. Note Clinton tweets are only from 2015 to 2016 for the election period, this will be explained more later on.  \n",
    "    2. Import the needed libraries\n",
    "    3. Import CSV of Hillary Clinton tweets and create a dataframe df_clint\n",
    "    4. Initial Analysis of the df"
   ]
  },
  {
   "cell_type": "code",
   "execution_count": 1,
   "id": "43f0b6e8",
   "metadata": {},
   "outputs": [],
   "source": [
    "import pandas as pd\n",
    "import numpy as np\n",
    "import sidetable #we might not use it, but just in case\n",
    "import datetime"
   ]
  },
  {
   "cell_type": "code",
   "execution_count": 2,
   "id": "00825d39",
   "metadata": {
    "scrolled": false
   },
   "outputs": [
    {
     "data": {
      "text/html": [
       "<div>\n",
       "<style scoped>\n",
       "    .dataframe tbody tr th:only-of-type {\n",
       "        vertical-align: middle;\n",
       "    }\n",
       "\n",
       "    .dataframe tbody tr th {\n",
       "        vertical-align: top;\n",
       "    }\n",
       "\n",
       "    .dataframe thead th {\n",
       "        text-align: right;\n",
       "    }\n",
       "</style>\n",
       "<table border=\"1\" class=\"dataframe\">\n",
       "  <thead>\n",
       "    <tr style=\"text-align: right;\">\n",
       "      <th></th>\n",
       "      <th>id</th>\n",
       "      <th>handle</th>\n",
       "      <th>text</th>\n",
       "      <th>is_retweet</th>\n",
       "      <th>original_author</th>\n",
       "      <th>time</th>\n",
       "      <th>in_reply_to_screen_name</th>\n",
       "      <th>in_reply_to_status_id</th>\n",
       "      <th>in_reply_to_user_id</th>\n",
       "      <th>is_quote_status</th>\n",
       "      <th>...</th>\n",
       "      <th>place_type</th>\n",
       "      <th>place_country_code</th>\n",
       "      <th>place_country</th>\n",
       "      <th>place_contained_within</th>\n",
       "      <th>place_attributes</th>\n",
       "      <th>place_bounding_box</th>\n",
       "      <th>source_url</th>\n",
       "      <th>truncated</th>\n",
       "      <th>entities</th>\n",
       "      <th>extended_entities</th>\n",
       "    </tr>\n",
       "  </thead>\n",
       "  <tbody>\n",
       "    <tr>\n",
       "      <th>0</th>\n",
       "      <td>780925634159796224</td>\n",
       "      <td>HillaryClinton</td>\n",
       "      <td>The question in this election: Who can put the...</td>\n",
       "      <td>False</td>\n",
       "      <td>NaN</td>\n",
       "      <td>2016-09-28T00:22:34</td>\n",
       "      <td>NaN</td>\n",
       "      <td>NaN</td>\n",
       "      <td>NaN</td>\n",
       "      <td>False</td>\n",
       "      <td>...</td>\n",
       "      <td>NaN</td>\n",
       "      <td>NaN</td>\n",
       "      <td>NaN</td>\n",
       "      <td>NaN</td>\n",
       "      <td>NaN</td>\n",
       "      <td>NaN</td>\n",
       "      <td>https://studio.twitter.com</td>\n",
       "      <td>False</td>\n",
       "      <td>{'media': [{'display_url': 'pic.twitter.com/Xr...</td>\n",
       "      <td>{'media': [{'display_url': 'pic.twitter.com/Xr...</td>\n",
       "    </tr>\n",
       "    <tr>\n",
       "      <th>1</th>\n",
       "      <td>780916180899037184</td>\n",
       "      <td>HillaryClinton</td>\n",
       "      <td>Last night, Donald Trump said not paying taxes...</td>\n",
       "      <td>True</td>\n",
       "      <td>timkaine</td>\n",
       "      <td>2016-09-27T23:45:00</td>\n",
       "      <td>NaN</td>\n",
       "      <td>NaN</td>\n",
       "      <td>NaN</td>\n",
       "      <td>False</td>\n",
       "      <td>...</td>\n",
       "      <td>NaN</td>\n",
       "      <td>NaN</td>\n",
       "      <td>NaN</td>\n",
       "      <td>NaN</td>\n",
       "      <td>NaN</td>\n",
       "      <td>NaN</td>\n",
       "      <td>http://twitter.com</td>\n",
       "      <td>False</td>\n",
       "      <td>{'media': [{'display_url': 'pic.twitter.com/t0...</td>\n",
       "      <td>{'media': [{'display_url': 'pic.twitter.com/t0...</td>\n",
       "    </tr>\n",
       "  </tbody>\n",
       "</table>\n",
       "<p>2 rows × 28 columns</p>\n",
       "</div>"
      ],
      "text/plain": [
       "                   id          handle  \\\n",
       "0  780925634159796224  HillaryClinton   \n",
       "1  780916180899037184  HillaryClinton   \n",
       "\n",
       "                                                text  is_retweet  \\\n",
       "0  The question in this election: Who can put the...       False   \n",
       "1  Last night, Donald Trump said not paying taxes...        True   \n",
       "\n",
       "  original_author                 time in_reply_to_screen_name  \\\n",
       "0             NaN  2016-09-28T00:22:34                     NaN   \n",
       "1        timkaine  2016-09-27T23:45:00                     NaN   \n",
       "\n",
       "   in_reply_to_status_id  in_reply_to_user_id  is_quote_status  ...  \\\n",
       "0                    NaN                  NaN            False  ...   \n",
       "1                    NaN                  NaN            False  ...   \n",
       "\n",
       "  place_type  place_country_code  place_country  place_contained_within  \\\n",
       "0        NaN                 NaN            NaN                     NaN   \n",
       "1        NaN                 NaN            NaN                     NaN   \n",
       "\n",
       "   place_attributes place_bounding_box                  source_url truncated  \\\n",
       "0               NaN                NaN  https://studio.twitter.com     False   \n",
       "1               NaN                NaN          http://twitter.com     False   \n",
       "\n",
       "                                            entities  \\\n",
       "0  {'media': [{'display_url': 'pic.twitter.com/Xr...   \n",
       "1  {'media': [{'display_url': 'pic.twitter.com/t0...   \n",
       "\n",
       "                                   extended_entities  \n",
       "0  {'media': [{'display_url': 'pic.twitter.com/Xr...  \n",
       "1  {'media': [{'display_url': 'pic.twitter.com/t0...  \n",
       "\n",
       "[2 rows x 28 columns]"
      ]
     },
     "execution_count": 2,
     "metadata": {},
     "output_type": "execute_result"
    }
   ],
   "source": [
    "df_clint = pd.read_csv('../data/tweets.csv')\n",
    "df_clint.head(2)"
   ]
  },
  {
   "cell_type": "code",
   "execution_count": 3,
   "id": "0919ea7c",
   "metadata": {},
   "outputs": [
    {
     "data": {
      "text/plain": [
       "(6444, 28)"
      ]
     },
     "execution_count": 3,
     "metadata": {},
     "output_type": "execute_result"
    }
   ],
   "source": [
    "df_clint.shape"
   ]
  },
  {
   "cell_type": "code",
   "execution_count": 4,
   "id": "16f494c2",
   "metadata": {},
   "outputs": [
    {
     "data": {
      "text/plain": [
       "id                          0.000000\n",
       "handle                      0.000000\n",
       "text                        0.000000\n",
       "is_retweet                  0.000000\n",
       "original_author            88.795779\n",
       "time                        0.000000\n",
       "in_reply_to_screen_name    96.772191\n",
       "in_reply_to_status_id      96.865301\n",
       "in_reply_to_user_id        96.772191\n",
       "is_quote_status             0.000000\n",
       "lang                        0.000000\n",
       "retweet_count               0.000000\n",
       "favorite_count              0.000000\n",
       "longitude                  99.813780\n",
       "latitude                   99.813780\n",
       "place_id                   96.834264\n",
       "place_full_name            96.834264\n",
       "place_name                 96.834264\n",
       "place_type                 96.834264\n",
       "place_country_code         96.834264\n",
       "place_country              96.834264\n",
       "place_contained_within     96.834264\n",
       "place_attributes           96.834264\n",
       "place_bounding_box         96.834264\n",
       "source_url                  0.000000\n",
       "truncated                   0.000000\n",
       "entities                    0.000000\n",
       "extended_entities          79.081316\n",
       "dtype: float64"
      ]
     },
     "execution_count": 4,
     "metadata": {},
     "output_type": "execute_result"
    }
   ],
   "source": [
    "#let´s see how many nulls\n",
    "(df_clint.isnull().sum() / df_clint.shape[0]) * 100"
   ]
  },
  {
   "cell_type": "code",
   "execution_count": 5,
   "id": "ca7c2129",
   "metadata": {
    "scrolled": true
   },
   "outputs": [
    {
     "data": {
      "text/plain": [
       "Index(['id', 'handle', 'text', 'is_retweet', 'original_author', 'time',\n",
       "       'in_reply_to_screen_name', 'in_reply_to_status_id',\n",
       "       'in_reply_to_user_id', 'is_quote_status', 'lang', 'retweet_count',\n",
       "       'favorite_count', 'longitude', 'latitude', 'place_id',\n",
       "       'place_full_name', 'place_name', 'place_type', 'place_country_code',\n",
       "       'place_country', 'place_contained_within', 'place_attributes',\n",
       "       'place_bounding_box', 'source_url', 'truncated', 'entities',\n",
       "       'extended_entities'],\n",
       "      dtype='object')"
      ]
     },
     "execution_count": 5,
     "metadata": {},
     "output_type": "execute_result"
    }
   ],
   "source": [
    "df_clint.columns\n",
    "\n",
    "#A lot of columns I dont really care"
   ]
  },
  {
   "cell_type": "code",
   "execution_count": 6,
   "id": "4329ee7e",
   "metadata": {},
   "outputs": [],
   "source": [
    "#let´s delete\n",
    "\n",
    "df_clint.drop(['in_reply_to_screen_name', 'in_reply_to_status_id',\n",
    "       'in_reply_to_user_id', 'is_quote_status','longitude', 'latitude', 'place_id',\n",
    "       'place_full_name', 'place_name', 'place_type', 'place_country_code',\n",
    "       'place_country', 'place_contained_within', 'place_attributes','is_retweet',\n",
    "        'original_author','place_bounding_box', 'source_url', 'truncated', 'entities',\n",
    "       'extended_entities','lang'], axis=1, inplace = True)"
   ]
  },
  {
   "cell_type": "code",
   "execution_count": 7,
   "id": "ac2cded7",
   "metadata": {
    "scrolled": true
   },
   "outputs": [
    {
     "data": {
      "text/html": [
       "<div>\n",
       "<style scoped>\n",
       "    .dataframe tbody tr th:only-of-type {\n",
       "        vertical-align: middle;\n",
       "    }\n",
       "\n",
       "    .dataframe tbody tr th {\n",
       "        vertical-align: top;\n",
       "    }\n",
       "\n",
       "    .dataframe thead th {\n",
       "        text-align: right;\n",
       "    }\n",
       "</style>\n",
       "<table border=\"1\" class=\"dataframe\">\n",
       "  <thead>\n",
       "    <tr style=\"text-align: right;\">\n",
       "      <th></th>\n",
       "      <th>id</th>\n",
       "      <th>handle</th>\n",
       "      <th>text</th>\n",
       "      <th>time</th>\n",
       "      <th>retweet_count</th>\n",
       "      <th>favorite_count</th>\n",
       "    </tr>\n",
       "  </thead>\n",
       "  <tbody>\n",
       "    <tr>\n",
       "      <th>0</th>\n",
       "      <td>780925634159796224</td>\n",
       "      <td>HillaryClinton</td>\n",
       "      <td>The question in this election: Who can put the...</td>\n",
       "      <td>2016-09-28T00:22:34</td>\n",
       "      <td>218</td>\n",
       "      <td>651</td>\n",
       "    </tr>\n",
       "    <tr>\n",
       "      <th>1</th>\n",
       "      <td>780916180899037184</td>\n",
       "      <td>HillaryClinton</td>\n",
       "      <td>Last night, Donald Trump said not paying taxes...</td>\n",
       "      <td>2016-09-27T23:45:00</td>\n",
       "      <td>2445</td>\n",
       "      <td>5308</td>\n",
       "    </tr>\n",
       "  </tbody>\n",
       "</table>\n",
       "</div>"
      ],
      "text/plain": [
       "                   id          handle  \\\n",
       "0  780925634159796224  HillaryClinton   \n",
       "1  780916180899037184  HillaryClinton   \n",
       "\n",
       "                                                text                 time  \\\n",
       "0  The question in this election: Who can put the...  2016-09-28T00:22:34   \n",
       "1  Last night, Donald Trump said not paying taxes...  2016-09-27T23:45:00   \n",
       "\n",
       "   retweet_count  favorite_count  \n",
       "0            218             651  \n",
       "1           2445            5308  "
      ]
     },
     "execution_count": 7,
     "metadata": {},
     "output_type": "execute_result"
    }
   ],
   "source": [
    "df_clint.head(2)"
   ]
  },
  {
   "cell_type": "markdown",
   "id": "2d5c46b1",
   "metadata": {},
   "source": [
    "**Note_2:** columns are homogeneous :) , the 'id' column can be checked as unique ID to be replaced:\n",
    "\n",
    "    1.First let me check if there are any duplicates to see if I should make it as the id column\n",
    "    2.Set id column for 'id'"
   ]
  },
  {
   "cell_type": "code",
   "execution_count": 8,
   "id": "aba5fb2d",
   "metadata": {},
   "outputs": [
    {
     "data": {
      "text/plain": [
       "0"
      ]
     },
     "execution_count": 8,
     "metadata": {},
     "output_type": "execute_result"
    }
   ],
   "source": [
    "#me gustaría ver si el id tiene duplicado, y después si no tiene, lo pongo como index\n",
    "\n",
    "df_clint.duplicated('id').sum()"
   ]
  },
  {
   "cell_type": "code",
   "execution_count": 9,
   "id": "b9034dc1",
   "metadata": {},
   "outputs": [
    {
     "data": {
      "text/html": [
       "<div>\n",
       "<style scoped>\n",
       "    .dataframe tbody tr th:only-of-type {\n",
       "        vertical-align: middle;\n",
       "    }\n",
       "\n",
       "    .dataframe tbody tr th {\n",
       "        vertical-align: top;\n",
       "    }\n",
       "\n",
       "    .dataframe thead th {\n",
       "        text-align: right;\n",
       "    }\n",
       "</style>\n",
       "<table border=\"1\" class=\"dataframe\">\n",
       "  <thead>\n",
       "    <tr style=\"text-align: right;\">\n",
       "      <th></th>\n",
       "      <th>handle</th>\n",
       "      <th>text</th>\n",
       "      <th>time</th>\n",
       "      <th>retweet_count</th>\n",
       "      <th>favorite_count</th>\n",
       "    </tr>\n",
       "    <tr>\n",
       "      <th>id</th>\n",
       "      <th></th>\n",
       "      <th></th>\n",
       "      <th></th>\n",
       "      <th></th>\n",
       "      <th></th>\n",
       "    </tr>\n",
       "  </thead>\n",
       "  <tbody>\n",
       "    <tr>\n",
       "      <th>780925634159796224</th>\n",
       "      <td>HillaryClinton</td>\n",
       "      <td>The question in this election: Who can put the...</td>\n",
       "      <td>2016-09-28T00:22:34</td>\n",
       "      <td>218</td>\n",
       "      <td>651</td>\n",
       "    </tr>\n",
       "    <tr>\n",
       "      <th>780916180899037184</th>\n",
       "      <td>HillaryClinton</td>\n",
       "      <td>Last night, Donald Trump said not paying taxes...</td>\n",
       "      <td>2016-09-27T23:45:00</td>\n",
       "      <td>2445</td>\n",
       "      <td>5308</td>\n",
       "    </tr>\n",
       "  </tbody>\n",
       "</table>\n",
       "</div>"
      ],
      "text/plain": [
       "                            handle  \\\n",
       "id                                   \n",
       "780925634159796224  HillaryClinton   \n",
       "780916180899037184  HillaryClinton   \n",
       "\n",
       "                                                                 text  \\\n",
       "id                                                                      \n",
       "780925634159796224  The question in this election: Who can put the...   \n",
       "780916180899037184  Last night, Donald Trump said not paying taxes...   \n",
       "\n",
       "                                   time  retweet_count  favorite_count  \n",
       "id                                                                      \n",
       "780925634159796224  2016-09-28T00:22:34            218             651  \n",
       "780916180899037184  2016-09-27T23:45:00           2445            5308  "
      ]
     },
     "execution_count": 9,
     "metadata": {},
     "output_type": "execute_result"
    }
   ],
   "source": [
    "#buenisimo, ahora a setearlo como index\n",
    "\n",
    "df_clint.set_index(['id'], inplace = True)\n",
    "df_clint.head(2)"
   ]
  },
  {
   "cell_type": "code",
   "execution_count": 10,
   "id": "27ab98d1",
   "metadata": {},
   "outputs": [
    {
     "data": {
      "text/plain": [
       "handle            object\n",
       "text              object\n",
       "time              object\n",
       "retweet_count      int64\n",
       "favorite_count     int64\n",
       "dtype: object"
      ]
     },
     "execution_count": 10,
     "metadata": {},
     "output_type": "execute_result"
    }
   ],
   "source": [
    "#oh this is looking nice, but oh wait, let´s check the types of the data itself.\n",
    "\n",
    "df_clint.dtypes"
   ]
  },
  {
   "cell_type": "markdown",
   "id": "31b28793",
   "metadata": {},
   "source": [
    "**Note_3**: the dates need to be changed, I will:\n",
    "\n",
    "        1. Declare a variable 'x' which will be the pattern of the date and time I want to split. \n",
    "        2. Create 2 functions 'limpiar_fecha' and 'limpiar_hora' to clean both dates and hours. \n",
    "        3. Apply the formula using an .apply() and create respective columns [date] and [hora]\n",
    "        4. Create new columns using datetime():\n",
    "            a. Year\n",
    "            b. Month\n",
    "            c. Day\n",
    "            d. Hour\n",
    "            e. Minute"
   ]
  },
  {
   "cell_type": "code",
   "execution_count": 11,
   "id": "a623a303",
   "metadata": {},
   "outputs": [
    {
     "data": {
      "text/plain": [
       "['2016-09-28', '00:22:34']"
      ]
     },
     "execution_count": 11,
     "metadata": {},
     "output_type": "execute_result"
    }
   ],
   "source": [
    "#1. Declare and set variable\n",
    "x = '2016-09-28T00:22:34'\n",
    "x.split(\"T\")"
   ]
  },
  {
   "cell_type": "code",
   "execution_count": 12,
   "id": "531a2e01",
   "metadata": {},
   "outputs": [],
   "source": [
    "#build functions \n",
    "def limpiar_fecha(x): \n",
    "    fecha_string1 = x.split(\"T\")[0]\n",
    "    fecha_date = datetime.datetime.strptime(fecha_string1, '%Y-%m-%d')\n",
    "    return fecha_date\n",
    "\n",
    "def limpiar_hora(x): \n",
    "    fecha_string1 = x.split(\"T\")[1]\n",
    "    fecha_hora = datetime.datetime.strptime(fecha_string1, '%H:%M:%S')\n",
    "    return fecha_hora"
   ]
  },
  {
   "cell_type": "code",
   "execution_count": 13,
   "id": "32048bc3",
   "metadata": {},
   "outputs": [],
   "source": [
    "#apply functions\n",
    "df_clint[\"date\"] = df_clint[\"time\"].apply(limpiar_fecha)\n",
    "df_clint[\"hora\"] = df_clint[\"time\"].apply(limpiar_hora)"
   ]
  },
  {
   "cell_type": "code",
   "execution_count": 14,
   "id": "b043a6f4",
   "metadata": {},
   "outputs": [
    {
     "data": {
      "text/html": [
       "<div>\n",
       "<style scoped>\n",
       "    .dataframe tbody tr th:only-of-type {\n",
       "        vertical-align: middle;\n",
       "    }\n",
       "\n",
       "    .dataframe tbody tr th {\n",
       "        vertical-align: top;\n",
       "    }\n",
       "\n",
       "    .dataframe thead th {\n",
       "        text-align: right;\n",
       "    }\n",
       "</style>\n",
       "<table border=\"1\" class=\"dataframe\">\n",
       "  <thead>\n",
       "    <tr style=\"text-align: right;\">\n",
       "      <th></th>\n",
       "      <th>handle</th>\n",
       "      <th>text</th>\n",
       "      <th>time</th>\n",
       "      <th>retweet_count</th>\n",
       "      <th>favorite_count</th>\n",
       "      <th>date</th>\n",
       "      <th>hora</th>\n",
       "    </tr>\n",
       "    <tr>\n",
       "      <th>id</th>\n",
       "      <th></th>\n",
       "      <th></th>\n",
       "      <th></th>\n",
       "      <th></th>\n",
       "      <th></th>\n",
       "      <th></th>\n",
       "      <th></th>\n",
       "    </tr>\n",
       "  </thead>\n",
       "  <tbody>\n",
       "    <tr>\n",
       "      <th>780925634159796224</th>\n",
       "      <td>HillaryClinton</td>\n",
       "      <td>The question in this election: Who can put the...</td>\n",
       "      <td>2016-09-28T00:22:34</td>\n",
       "      <td>218</td>\n",
       "      <td>651</td>\n",
       "      <td>2016-09-28</td>\n",
       "      <td>1900-01-01 00:22:34</td>\n",
       "    </tr>\n",
       "    <tr>\n",
       "      <th>780916180899037184</th>\n",
       "      <td>HillaryClinton</td>\n",
       "      <td>Last night, Donald Trump said not paying taxes...</td>\n",
       "      <td>2016-09-27T23:45:00</td>\n",
       "      <td>2445</td>\n",
       "      <td>5308</td>\n",
       "      <td>2016-09-27</td>\n",
       "      <td>1900-01-01 23:45:00</td>\n",
       "    </tr>\n",
       "  </tbody>\n",
       "</table>\n",
       "</div>"
      ],
      "text/plain": [
       "                            handle  \\\n",
       "id                                   \n",
       "780925634159796224  HillaryClinton   \n",
       "780916180899037184  HillaryClinton   \n",
       "\n",
       "                                                                 text  \\\n",
       "id                                                                      \n",
       "780925634159796224  The question in this election: Who can put the...   \n",
       "780916180899037184  Last night, Donald Trump said not paying taxes...   \n",
       "\n",
       "                                   time  retweet_count  favorite_count  \\\n",
       "id                                                                       \n",
       "780925634159796224  2016-09-28T00:22:34            218             651   \n",
       "780916180899037184  2016-09-27T23:45:00           2445            5308   \n",
       "\n",
       "                         date                hora  \n",
       "id                                                 \n",
       "780925634159796224 2016-09-28 1900-01-01 00:22:34  \n",
       "780916180899037184 2016-09-27 1900-01-01 23:45:00  "
      ]
     },
     "execution_count": 14,
     "metadata": {},
     "output_type": "execute_result"
    }
   ],
   "source": [
    "df_clint.head(2)"
   ]
  },
  {
   "cell_type": "code",
   "execution_count": 15,
   "id": "afb986ed",
   "metadata": {},
   "outputs": [
    {
     "data": {
      "text/plain": [
       "handle                    object\n",
       "text                      object\n",
       "time                      object\n",
       "retweet_count              int64\n",
       "favorite_count             int64\n",
       "date              datetime64[ns]\n",
       "hora              datetime64[ns]\n",
       "dtype: object"
      ]
     },
     "execution_count": 15,
     "metadata": {},
     "output_type": "execute_result"
    }
   ],
   "source": [
    "#confirm\n",
    "df_clint.dtypes"
   ]
  },
  {
   "cell_type": "code",
   "execution_count": 16,
   "id": "6bcceba1",
   "metadata": {},
   "outputs": [],
   "source": [
    "#now to get new columns per date\n",
    "\n",
    "df_clint['year'] = df_clint['date'].dt.year\n",
    "df_clint['month'] = df_clint['date'].dt.month\n",
    "df_clint['day'] = df_clint['date'].dt.day\n",
    "df_clint['hour'] = df_clint['hora'].dt.hour\n",
    "df_clint['minute'] = df_clint['hora'].dt.minute"
   ]
  },
  {
   "cell_type": "code",
   "execution_count": 17,
   "id": "7c253045",
   "metadata": {
    "scrolled": true
   },
   "outputs": [
    {
     "data": {
      "text/html": [
       "<div>\n",
       "<style scoped>\n",
       "    .dataframe tbody tr th:only-of-type {\n",
       "        vertical-align: middle;\n",
       "    }\n",
       "\n",
       "    .dataframe tbody tr th {\n",
       "        vertical-align: top;\n",
       "    }\n",
       "\n",
       "    .dataframe thead th {\n",
       "        text-align: right;\n",
       "    }\n",
       "</style>\n",
       "<table border=\"1\" class=\"dataframe\">\n",
       "  <thead>\n",
       "    <tr style=\"text-align: right;\">\n",
       "      <th></th>\n",
       "      <th>handle</th>\n",
       "      <th>text</th>\n",
       "      <th>time</th>\n",
       "      <th>retweet_count</th>\n",
       "      <th>favorite_count</th>\n",
       "      <th>date</th>\n",
       "      <th>hora</th>\n",
       "      <th>year</th>\n",
       "      <th>month</th>\n",
       "      <th>day</th>\n",
       "      <th>hour</th>\n",
       "      <th>minute</th>\n",
       "    </tr>\n",
       "    <tr>\n",
       "      <th>id</th>\n",
       "      <th></th>\n",
       "      <th></th>\n",
       "      <th></th>\n",
       "      <th></th>\n",
       "      <th></th>\n",
       "      <th></th>\n",
       "      <th></th>\n",
       "      <th></th>\n",
       "      <th></th>\n",
       "      <th></th>\n",
       "      <th></th>\n",
       "      <th></th>\n",
       "    </tr>\n",
       "  </thead>\n",
       "  <tbody>\n",
       "    <tr>\n",
       "      <th>780925634159796224</th>\n",
       "      <td>HillaryClinton</td>\n",
       "      <td>The question in this election: Who can put the...</td>\n",
       "      <td>2016-09-28T00:22:34</td>\n",
       "      <td>218</td>\n",
       "      <td>651</td>\n",
       "      <td>2016-09-28</td>\n",
       "      <td>1900-01-01 00:22:34</td>\n",
       "      <td>2016</td>\n",
       "      <td>9</td>\n",
       "      <td>28</td>\n",
       "      <td>0</td>\n",
       "      <td>22</td>\n",
       "    </tr>\n",
       "    <tr>\n",
       "      <th>780916180899037184</th>\n",
       "      <td>HillaryClinton</td>\n",
       "      <td>Last night, Donald Trump said not paying taxes...</td>\n",
       "      <td>2016-09-27T23:45:00</td>\n",
       "      <td>2445</td>\n",
       "      <td>5308</td>\n",
       "      <td>2016-09-27</td>\n",
       "      <td>1900-01-01 23:45:00</td>\n",
       "      <td>2016</td>\n",
       "      <td>9</td>\n",
       "      <td>27</td>\n",
       "      <td>23</td>\n",
       "      <td>45</td>\n",
       "    </tr>\n",
       "  </tbody>\n",
       "</table>\n",
       "</div>"
      ],
      "text/plain": [
       "                            handle  \\\n",
       "id                                   \n",
       "780925634159796224  HillaryClinton   \n",
       "780916180899037184  HillaryClinton   \n",
       "\n",
       "                                                                 text  \\\n",
       "id                                                                      \n",
       "780925634159796224  The question in this election: Who can put the...   \n",
       "780916180899037184  Last night, Donald Trump said not paying taxes...   \n",
       "\n",
       "                                   time  retweet_count  favorite_count  \\\n",
       "id                                                                       \n",
       "780925634159796224  2016-09-28T00:22:34            218             651   \n",
       "780916180899037184  2016-09-27T23:45:00           2445            5308   \n",
       "\n",
       "                         date                hora  year  month  day  hour  \\\n",
       "id                                                                          \n",
       "780925634159796224 2016-09-28 1900-01-01 00:22:34  2016      9   28     0   \n",
       "780916180899037184 2016-09-27 1900-01-01 23:45:00  2016      9   27    23   \n",
       "\n",
       "                    minute  \n",
       "id                          \n",
       "780925634159796224      22  \n",
       "780916180899037184      45  "
      ]
     },
     "execution_count": 17,
     "metadata": {},
     "output_type": "execute_result"
    }
   ],
   "source": [
    "df_clint.head(2)"
   ]
  },
  {
   "cell_type": "markdown",
   "id": "0b8feefb",
   "metadata": {},
   "source": [
    "**Note_4:** Here I like how the other columns came out, but I have to clean up the dataframe:\n",
    "\n",
    "        1. Drop columns date, time and hora\n",
    "        2. Double check I only have Clinton tweets using stb.freq on the 'handles'\n",
    "        3. If there are Donald Trump tweets, I will then:\n",
    "            a. Drop the tweets where the handle is 'realDonaldTrump'\n",
    "            b. Confirm they are dropped\n",
    "        4. Save new file"
   ]
  },
  {
   "cell_type": "code",
   "execution_count": 18,
   "id": "6286cc16",
   "metadata": {},
   "outputs": [],
   "source": [
    "df_clint.drop(['date','time','hora'], axis = 1, inplace = True)"
   ]
  },
  {
   "cell_type": "code",
   "execution_count": 19,
   "id": "2031ea74",
   "metadata": {},
   "outputs": [
    {
     "data": {
      "text/html": [
       "<div>\n",
       "<style scoped>\n",
       "    .dataframe tbody tr th:only-of-type {\n",
       "        vertical-align: middle;\n",
       "    }\n",
       "\n",
       "    .dataframe tbody tr th {\n",
       "        vertical-align: top;\n",
       "    }\n",
       "\n",
       "    .dataframe thead th {\n",
       "        text-align: right;\n",
       "    }\n",
       "</style>\n",
       "<table border=\"1\" class=\"dataframe\">\n",
       "  <thead>\n",
       "    <tr style=\"text-align: right;\">\n",
       "      <th></th>\n",
       "      <th>handle</th>\n",
       "      <th>text</th>\n",
       "      <th>retweet_count</th>\n",
       "      <th>favorite_count</th>\n",
       "      <th>year</th>\n",
       "      <th>month</th>\n",
       "      <th>day</th>\n",
       "      <th>hour</th>\n",
       "      <th>minute</th>\n",
       "    </tr>\n",
       "    <tr>\n",
       "      <th>id</th>\n",
       "      <th></th>\n",
       "      <th></th>\n",
       "      <th></th>\n",
       "      <th></th>\n",
       "      <th></th>\n",
       "      <th></th>\n",
       "      <th></th>\n",
       "      <th></th>\n",
       "      <th></th>\n",
       "    </tr>\n",
       "  </thead>\n",
       "  <tbody>\n",
       "    <tr>\n",
       "      <th>780925634159796224</th>\n",
       "      <td>HillaryClinton</td>\n",
       "      <td>The question in this election: Who can put the...</td>\n",
       "      <td>218</td>\n",
       "      <td>651</td>\n",
       "      <td>2016</td>\n",
       "      <td>9</td>\n",
       "      <td>28</td>\n",
       "      <td>0</td>\n",
       "      <td>22</td>\n",
       "    </tr>\n",
       "    <tr>\n",
       "      <th>780916180899037184</th>\n",
       "      <td>HillaryClinton</td>\n",
       "      <td>Last night, Donald Trump said not paying taxes...</td>\n",
       "      <td>2445</td>\n",
       "      <td>5308</td>\n",
       "      <td>2016</td>\n",
       "      <td>9</td>\n",
       "      <td>27</td>\n",
       "      <td>23</td>\n",
       "      <td>45</td>\n",
       "    </tr>\n",
       "  </tbody>\n",
       "</table>\n",
       "</div>"
      ],
      "text/plain": [
       "                            handle  \\\n",
       "id                                   \n",
       "780925634159796224  HillaryClinton   \n",
       "780916180899037184  HillaryClinton   \n",
       "\n",
       "                                                                 text  \\\n",
       "id                                                                      \n",
       "780925634159796224  The question in this election: Who can put the...   \n",
       "780916180899037184  Last night, Donald Trump said not paying taxes...   \n",
       "\n",
       "                    retweet_count  favorite_count  year  month  day  hour  \\\n",
       "id                                                                          \n",
       "780925634159796224            218             651  2016      9   28     0   \n",
       "780916180899037184           2445            5308  2016      9   27    23   \n",
       "\n",
       "                    minute  \n",
       "id                          \n",
       "780925634159796224      22  \n",
       "780916180899037184      45  "
      ]
     },
     "execution_count": 19,
     "metadata": {},
     "output_type": "execute_result"
    }
   ],
   "source": [
    "df_clint.head(2)"
   ]
  },
  {
   "cell_type": "code",
   "execution_count": 20,
   "id": "cf20a2bf",
   "metadata": {},
   "outputs": [
    {
     "data": {
      "text/html": [
       "<div>\n",
       "<style scoped>\n",
       "    .dataframe tbody tr th:only-of-type {\n",
       "        vertical-align: middle;\n",
       "    }\n",
       "\n",
       "    .dataframe tbody tr th {\n",
       "        vertical-align: top;\n",
       "    }\n",
       "\n",
       "    .dataframe thead th {\n",
       "        text-align: right;\n",
       "    }\n",
       "</style>\n",
       "<table border=\"1\" class=\"dataframe\">\n",
       "  <thead>\n",
       "    <tr style=\"text-align: right;\">\n",
       "      <th></th>\n",
       "      <th>handle</th>\n",
       "      <th>count</th>\n",
       "      <th>percent</th>\n",
       "      <th>cumulative_count</th>\n",
       "      <th>cumulative_percent</th>\n",
       "    </tr>\n",
       "  </thead>\n",
       "  <tbody>\n",
       "    <tr>\n",
       "      <th>0</th>\n",
       "      <td>HillaryClinton</td>\n",
       "      <td>3226</td>\n",
       "      <td>50.062073</td>\n",
       "      <td>3226</td>\n",
       "      <td>50.062073</td>\n",
       "    </tr>\n",
       "    <tr>\n",
       "      <th>1</th>\n",
       "      <td>realDonaldTrump</td>\n",
       "      <td>3218</td>\n",
       "      <td>49.937927</td>\n",
       "      <td>6444</td>\n",
       "      <td>100.000000</td>\n",
       "    </tr>\n",
       "  </tbody>\n",
       "</table>\n",
       "</div>"
      ],
      "text/plain": [
       "            handle  count    percent  cumulative_count  cumulative_percent\n",
       "0   HillaryClinton   3226  50.062073              3226           50.062073\n",
       "1  realDonaldTrump   3218  49.937927              6444          100.000000"
      ]
     },
     "execution_count": 20,
     "metadata": {},
     "output_type": "execute_result"
    }
   ],
   "source": [
    "#now I want to check the handles, because I only care about Hillary´s tweets\n",
    "\n",
    "df_clint.stb.freq(['handle'])"
   ]
  },
  {
   "cell_type": "code",
   "execution_count": 21,
   "id": "1d8d9e92",
   "metadata": {},
   "outputs": [],
   "source": [
    "#dropping donald trump tweets\n",
    "\n",
    "df_clint.drop(df_clint[df_clint.handle == 'realDonaldTrump'].index, inplace = True)"
   ]
  },
  {
   "cell_type": "code",
   "execution_count": 22,
   "id": "0891bcaa",
   "metadata": {},
   "outputs": [
    {
     "data": {
      "text/html": [
       "<div>\n",
       "<style scoped>\n",
       "    .dataframe tbody tr th:only-of-type {\n",
       "        vertical-align: middle;\n",
       "    }\n",
       "\n",
       "    .dataframe tbody tr th {\n",
       "        vertical-align: top;\n",
       "    }\n",
       "\n",
       "    .dataframe thead th {\n",
       "        text-align: right;\n",
       "    }\n",
       "</style>\n",
       "<table border=\"1\" class=\"dataframe\">\n",
       "  <thead>\n",
       "    <tr style=\"text-align: right;\">\n",
       "      <th></th>\n",
       "      <th>handle</th>\n",
       "      <th>count</th>\n",
       "      <th>percent</th>\n",
       "      <th>cumulative_count</th>\n",
       "      <th>cumulative_percent</th>\n",
       "    </tr>\n",
       "  </thead>\n",
       "  <tbody>\n",
       "    <tr>\n",
       "      <th>0</th>\n",
       "      <td>HillaryClinton</td>\n",
       "      <td>3226</td>\n",
       "      <td>100.0</td>\n",
       "      <td>3226</td>\n",
       "      <td>100.0</td>\n",
       "    </tr>\n",
       "  </tbody>\n",
       "</table>\n",
       "</div>"
      ],
      "text/plain": [
       "           handle  count  percent  cumulative_count  cumulative_percent\n",
       "0  HillaryClinton   3226    100.0              3226               100.0"
      ]
     },
     "execution_count": 22,
     "metadata": {},
     "output_type": "execute_result"
    }
   ],
   "source": [
    "#confirmation\n",
    "\n",
    "df_clint.stb.freq(['handle'])"
   ]
  },
  {
   "cell_type": "code",
   "execution_count": 23,
   "id": "e6a5c13b",
   "metadata": {},
   "outputs": [],
   "source": [
    "#time to save it\n",
    "\n",
    "df_clint.to_csv('../data/clintonclean.csv')"
   ]
  }
 ],
 "metadata": {
  "kernelspec": {
   "display_name": "Python 3 (ipykernel)",
   "language": "python",
   "name": "python3"
  },
  "language_info": {
   "codemirror_mode": {
    "name": "ipython",
    "version": 3
   },
   "file_extension": ".py",
   "mimetype": "text/x-python",
   "name": "python",
   "nbconvert_exporter": "python",
   "pygments_lexer": "ipython3",
   "version": "3.9.7"
  }
 },
 "nbformat": 4,
 "nbformat_minor": 5
}
