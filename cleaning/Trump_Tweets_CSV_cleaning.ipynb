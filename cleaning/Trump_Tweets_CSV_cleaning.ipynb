{
 "cells": [
  {
   "cell_type": "markdown",
   "id": "361d2175",
   "metadata": {},
   "source": [
    "**LET´S BEGIN THE CLEANING - Donald Trump Tweets**\n",
    "\n",
    "    1. Import the needed libraries\n",
    "    2. Import CSV of Donald Trump tweets and create a dataframe df_trump\n",
    "    3. Initial Analysis of the df"
   ]
  },
  {
   "cell_type": "code",
   "execution_count": 1,
   "id": "946aae79",
   "metadata": {},
   "outputs": [],
   "source": [
    "import pandas as pd\n",
    "import numpy as np\n",
    "import sidetable #bonus\n",
    "import datetime"
   ]
  },
  {
   "cell_type": "code",
   "execution_count": 2,
   "id": "fe6d74b0",
   "metadata": {
    "scrolled": true
   },
   "outputs": [
    {
     "data": {
      "text/html": [
       "<div>\n",
       "<style scoped>\n",
       "    .dataframe tbody tr th:only-of-type {\n",
       "        vertical-align: middle;\n",
       "    }\n",
       "\n",
       "    .dataframe tbody tr th {\n",
       "        vertical-align: top;\n",
       "    }\n",
       "\n",
       "    .dataframe thead th {\n",
       "        text-align: right;\n",
       "    }\n",
       "</style>\n",
       "<table border=\"1\" class=\"dataframe\">\n",
       "  <thead>\n",
       "    <tr style=\"text-align: right;\">\n",
       "      <th></th>\n",
       "      <th>id</th>\n",
       "      <th>link</th>\n",
       "      <th>content</th>\n",
       "      <th>date</th>\n",
       "      <th>retweets</th>\n",
       "      <th>favorites</th>\n",
       "      <th>mentions</th>\n",
       "      <th>hashtags</th>\n",
       "    </tr>\n",
       "  </thead>\n",
       "  <tbody>\n",
       "    <tr>\n",
       "      <th>0</th>\n",
       "      <td>1698308935</td>\n",
       "      <td>https://twitter.com/realDonaldTrump/status/169...</td>\n",
       "      <td>Be sure to tune in and watch Donald Trump on L...</td>\n",
       "      <td>2009-05-04 13:54:25</td>\n",
       "      <td>510</td>\n",
       "      <td>917</td>\n",
       "      <td>NaN</td>\n",
       "      <td>NaN</td>\n",
       "    </tr>\n",
       "    <tr>\n",
       "      <th>1</th>\n",
       "      <td>1701461182</td>\n",
       "      <td>https://twitter.com/realDonaldTrump/status/170...</td>\n",
       "      <td>Donald Trump will be appearing on The View tom...</td>\n",
       "      <td>2009-05-04 20:00:10</td>\n",
       "      <td>34</td>\n",
       "      <td>267</td>\n",
       "      <td>NaN</td>\n",
       "      <td>NaN</td>\n",
       "    </tr>\n",
       "  </tbody>\n",
       "</table>\n",
       "</div>"
      ],
      "text/plain": [
       "           id                                               link  \\\n",
       "0  1698308935  https://twitter.com/realDonaldTrump/status/169...   \n",
       "1  1701461182  https://twitter.com/realDonaldTrump/status/170...   \n",
       "\n",
       "                                             content                 date  \\\n",
       "0  Be sure to tune in and watch Donald Trump on L...  2009-05-04 13:54:25   \n",
       "1  Donald Trump will be appearing on The View tom...  2009-05-04 20:00:10   \n",
       "\n",
       "   retweets  favorites mentions hashtags  \n",
       "0       510        917      NaN      NaN  \n",
       "1        34        267      NaN      NaN  "
      ]
     },
     "execution_count": 2,
     "metadata": {},
     "output_type": "execute_result"
    }
   ],
   "source": [
    "df_trump = pd.read_csv('../data/realdonaldtrump.csv')\n",
    "df_trump.head(2)"
   ]
  },
  {
   "cell_type": "code",
   "execution_count": 3,
   "id": "3fd03a64",
   "metadata": {
    "scrolled": true
   },
   "outputs": [
    {
     "data": {
      "text/plain": [
       "(43352, 8)"
      ]
     },
     "execution_count": 3,
     "metadata": {},
     "output_type": "execute_result"
    }
   ],
   "source": [
    "df_trump.shape\n",
    "#all looking good"
   ]
  },
  {
   "cell_type": "code",
   "execution_count": 4,
   "id": "f26424d7",
   "metadata": {
    "scrolled": true
   },
   "outputs": [
    {
     "data": {
      "text/plain": [
       "id            int64\n",
       "link         object\n",
       "content      object\n",
       "date         object\n",
       "retweets      int64\n",
       "favorites     int64\n",
       "mentions     object\n",
       "hashtags     object\n",
       "dtype: object"
      ]
     },
     "execution_count": 4,
     "metadata": {},
     "output_type": "execute_result"
    }
   ],
   "source": [
    "df_trump.dtypes\n",
    "\n",
    "#types are good besides the date, I want it as date time, not string. "
   ]
  },
  {
   "cell_type": "markdown",
   "id": "98ae4220",
   "metadata": {},
   "source": [
    "**Note_1:** change the \"date\" column type to datetime"
   ]
  },
  {
   "cell_type": "code",
   "execution_count": 5,
   "id": "732b301c",
   "metadata": {},
   "outputs": [],
   "source": [
    "df_trump['date'] = pd.to_datetime(df_trump['date'], format='%Y%m%d %H:%M:%S')"
   ]
  },
  {
   "cell_type": "code",
   "execution_count": 6,
   "id": "6ac638d9",
   "metadata": {
    "scrolled": true
   },
   "outputs": [
    {
     "data": {
      "text/plain": [
       "id                    int64\n",
       "link                 object\n",
       "content              object\n",
       "date         datetime64[ns]\n",
       "retweets              int64\n",
       "favorites             int64\n",
       "mentions             object\n",
       "hashtags             object\n",
       "dtype: object"
      ]
     },
     "execution_count": 6,
     "metadata": {},
     "output_type": "execute_result"
    }
   ],
   "source": [
    "df_trump.dtypes"
   ]
  },
  {
   "cell_type": "markdown",
   "id": "81a8dabd",
   "metadata": {},
   "source": [
    "**Note_1:** Solved. Date column changed to datetime."
   ]
  },
  {
   "cell_type": "code",
   "execution_count": 7,
   "id": "2c4c809a",
   "metadata": {},
   "outputs": [
    {
     "data": {
      "text/plain": [
       "Index(['id', 'link', 'content', 'date', 'retweets', 'favorites', 'mentions',\n",
       "       'hashtags'],\n",
       "      dtype='object')"
      ]
     },
     "execution_count": 7,
     "metadata": {},
     "output_type": "execute_result"
    }
   ],
   "source": [
    "df_trump.columns"
   ]
  },
  {
   "cell_type": "markdown",
   "id": "09a8bd20",
   "metadata": {},
   "source": [
    "**Note_2:** columns are homogeneous :) , the 'id' column can be checked as unique ID to be replaced:\n",
    "\n",
    "    1.First let me check if there are any duplicates to see if I should make it as the id column\n",
    "    2.Set id column for 'id'"
   ]
  },
  {
   "cell_type": "code",
   "execution_count": 8,
   "id": "43e5557c",
   "metadata": {
    "scrolled": true
   },
   "outputs": [
    {
     "data": {
      "text/plain": [
       "0"
      ]
     },
     "execution_count": 8,
     "metadata": {},
     "output_type": "execute_result"
    }
   ],
   "source": [
    "df_trump.duplicated(subset = ['id']).sum()"
   ]
  },
  {
   "cell_type": "code",
   "execution_count": 9,
   "id": "3a766092",
   "metadata": {},
   "outputs": [],
   "source": [
    "df_trump.set_index(['id'], inplace = True)"
   ]
  },
  {
   "cell_type": "code",
   "execution_count": 10,
   "id": "c9194c46",
   "metadata": {
    "scrolled": true
   },
   "outputs": [
    {
     "data": {
      "text/html": [
       "<div>\n",
       "<style scoped>\n",
       "    .dataframe tbody tr th:only-of-type {\n",
       "        vertical-align: middle;\n",
       "    }\n",
       "\n",
       "    .dataframe tbody tr th {\n",
       "        vertical-align: top;\n",
       "    }\n",
       "\n",
       "    .dataframe thead th {\n",
       "        text-align: right;\n",
       "    }\n",
       "</style>\n",
       "<table border=\"1\" class=\"dataframe\">\n",
       "  <thead>\n",
       "    <tr style=\"text-align: right;\">\n",
       "      <th></th>\n",
       "      <th>link</th>\n",
       "      <th>content</th>\n",
       "      <th>date</th>\n",
       "      <th>retweets</th>\n",
       "      <th>favorites</th>\n",
       "      <th>mentions</th>\n",
       "      <th>hashtags</th>\n",
       "    </tr>\n",
       "    <tr>\n",
       "      <th>id</th>\n",
       "      <th></th>\n",
       "      <th></th>\n",
       "      <th></th>\n",
       "      <th></th>\n",
       "      <th></th>\n",
       "      <th></th>\n",
       "      <th></th>\n",
       "    </tr>\n",
       "  </thead>\n",
       "  <tbody>\n",
       "    <tr>\n",
       "      <th>1698308935</th>\n",
       "      <td>https://twitter.com/realDonaldTrump/status/169...</td>\n",
       "      <td>Be sure to tune in and watch Donald Trump on L...</td>\n",
       "      <td>2009-05-04 13:54:25</td>\n",
       "      <td>510</td>\n",
       "      <td>917</td>\n",
       "      <td>NaN</td>\n",
       "      <td>NaN</td>\n",
       "    </tr>\n",
       "    <tr>\n",
       "      <th>1701461182</th>\n",
       "      <td>https://twitter.com/realDonaldTrump/status/170...</td>\n",
       "      <td>Donald Trump will be appearing on The View tom...</td>\n",
       "      <td>2009-05-04 20:00:10</td>\n",
       "      <td>34</td>\n",
       "      <td>267</td>\n",
       "      <td>NaN</td>\n",
       "      <td>NaN</td>\n",
       "    </tr>\n",
       "  </tbody>\n",
       "</table>\n",
       "</div>"
      ],
      "text/plain": [
       "                                                         link  \\\n",
       "id                                                              \n",
       "1698308935  https://twitter.com/realDonaldTrump/status/169...   \n",
       "1701461182  https://twitter.com/realDonaldTrump/status/170...   \n",
       "\n",
       "                                                      content  \\\n",
       "id                                                              \n",
       "1698308935  Be sure to tune in and watch Donald Trump on L...   \n",
       "1701461182  Donald Trump will be appearing on The View tom...   \n",
       "\n",
       "                          date  retweets  favorites mentions hashtags  \n",
       "id                                                                     \n",
       "1698308935 2009-05-04 13:54:25       510        917      NaN      NaN  \n",
       "1701461182 2009-05-04 20:00:10        34        267      NaN      NaN  "
      ]
     },
     "execution_count": 10,
     "metadata": {},
     "output_type": "execute_result"
    }
   ],
   "source": [
    "df_trump.head(2)"
   ]
  },
  {
   "cell_type": "code",
   "execution_count": 11,
   "id": "850cd2b5",
   "metadata": {
    "scrolled": true
   },
   "outputs": [
    {
     "data": {
      "text/plain": [
       "link             0\n",
       "content          0\n",
       "date             0\n",
       "retweets         0\n",
       "favorites        0\n",
       "mentions     22966\n",
       "hashtags     37769\n",
       "dtype: int64"
      ]
     },
     "execution_count": 11,
     "metadata": {},
     "output_type": "execute_result"
    }
   ],
   "source": [
    "df_trump.isnull().sum()"
   ]
  },
  {
   "cell_type": "markdown",
   "id": "a3750c38",
   "metadata": {},
   "source": [
    "**Note_3:** 'mentions', 'link' and 'hashtags' are not relevant for my analysis, I will take care of those and delete.\n",
    "            the other columns are good to go. "
   ]
  },
  {
   "cell_type": "code",
   "execution_count": 12,
   "id": "c69c6329",
   "metadata": {},
   "outputs": [],
   "source": [
    "df_trump.drop(['mentions', 'hashtags', 'link'], axis=1, inplace = True)"
   ]
  },
  {
   "cell_type": "code",
   "execution_count": 13,
   "id": "37b14050",
   "metadata": {},
   "outputs": [
    {
     "data": {
      "text/html": [
       "<div>\n",
       "<style scoped>\n",
       "    .dataframe tbody tr th:only-of-type {\n",
       "        vertical-align: middle;\n",
       "    }\n",
       "\n",
       "    .dataframe tbody tr th {\n",
       "        vertical-align: top;\n",
       "    }\n",
       "\n",
       "    .dataframe thead th {\n",
       "        text-align: right;\n",
       "    }\n",
       "</style>\n",
       "<table border=\"1\" class=\"dataframe\">\n",
       "  <thead>\n",
       "    <tr style=\"text-align: right;\">\n",
       "      <th></th>\n",
       "      <th>content</th>\n",
       "      <th>date</th>\n",
       "      <th>retweets</th>\n",
       "      <th>favorites</th>\n",
       "    </tr>\n",
       "    <tr>\n",
       "      <th>id</th>\n",
       "      <th></th>\n",
       "      <th></th>\n",
       "      <th></th>\n",
       "      <th></th>\n",
       "    </tr>\n",
       "  </thead>\n",
       "  <tbody>\n",
       "    <tr>\n",
       "      <th>1698308935</th>\n",
       "      <td>Be sure to tune in and watch Donald Trump on L...</td>\n",
       "      <td>2009-05-04 13:54:25</td>\n",
       "      <td>510</td>\n",
       "      <td>917</td>\n",
       "    </tr>\n",
       "    <tr>\n",
       "      <th>1701461182</th>\n",
       "      <td>Donald Trump will be appearing on The View tom...</td>\n",
       "      <td>2009-05-04 20:00:10</td>\n",
       "      <td>34</td>\n",
       "      <td>267</td>\n",
       "    </tr>\n",
       "  </tbody>\n",
       "</table>\n",
       "</div>"
      ],
      "text/plain": [
       "                                                      content  \\\n",
       "id                                                              \n",
       "1698308935  Be sure to tune in and watch Donald Trump on L...   \n",
       "1701461182  Donald Trump will be appearing on The View tom...   \n",
       "\n",
       "                          date  retweets  favorites  \n",
       "id                                                   \n",
       "1698308935 2009-05-04 13:54:25       510        917  \n",
       "1701461182 2009-05-04 20:00:10        34        267  "
      ]
     },
     "execution_count": 13,
     "metadata": {},
     "output_type": "execute_result"
    }
   ],
   "source": [
    "df_trump.head(2)"
   ]
  },
  {
   "cell_type": "markdown",
   "id": "9c6761d1",
   "metadata": {},
   "source": [
    "**Note_4:** WAIT A MINUTE!! I can´t work with the date like this, need to split it.\n",
    "I will create one column for each of the variables I want:\n",
    "- Year\n",
    "- Month\n",
    "- Day\n",
    "- Hour\n",
    "- Minute\n",
    "\n",
    "Why? you might ask. Well, what I will do is analyze by market times, so it is important to know the day, time, so take out the moments the market was closed. Seconds is not relevant! Let´s go!"
   ]
  },
  {
   "cell_type": "code",
   "execution_count": 14,
   "id": "c54612d8",
   "metadata": {},
   "outputs": [],
   "source": [
    "#using datetime method!! I am creating new columns as stated above\n",
    "\n",
    "#as you can see at the end of each line, there is the \"year\", \"month\", etc.. \n",
    "\n",
    "df_trump['year'] = df_trump['date'].dt.year\n",
    "df_trump['month'] = df_trump['date'].dt.month\n",
    "df_trump['day'] = df_trump['date'].dt.day\n",
    "df_trump['hour'] = df_trump['date'].dt.hour\n",
    "df_trump['minute'] = df_trump['date'].dt.minute"
   ]
  },
  {
   "cell_type": "code",
   "execution_count": 15,
   "id": "5b3df4e1",
   "metadata": {},
   "outputs": [
    {
     "data": {
      "text/html": [
       "<div>\n",
       "<style scoped>\n",
       "    .dataframe tbody tr th:only-of-type {\n",
       "        vertical-align: middle;\n",
       "    }\n",
       "\n",
       "    .dataframe tbody tr th {\n",
       "        vertical-align: top;\n",
       "    }\n",
       "\n",
       "    .dataframe thead th {\n",
       "        text-align: right;\n",
       "    }\n",
       "</style>\n",
       "<table border=\"1\" class=\"dataframe\">\n",
       "  <thead>\n",
       "    <tr style=\"text-align: right;\">\n",
       "      <th></th>\n",
       "      <th>content</th>\n",
       "      <th>date</th>\n",
       "      <th>retweets</th>\n",
       "      <th>favorites</th>\n",
       "      <th>year</th>\n",
       "      <th>month</th>\n",
       "      <th>day</th>\n",
       "      <th>hour</th>\n",
       "      <th>minute</th>\n",
       "    </tr>\n",
       "    <tr>\n",
       "      <th>id</th>\n",
       "      <th></th>\n",
       "      <th></th>\n",
       "      <th></th>\n",
       "      <th></th>\n",
       "      <th></th>\n",
       "      <th></th>\n",
       "      <th></th>\n",
       "      <th></th>\n",
       "      <th></th>\n",
       "    </tr>\n",
       "  </thead>\n",
       "  <tbody>\n",
       "    <tr>\n",
       "      <th>1698308935</th>\n",
       "      <td>Be sure to tune in and watch Donald Trump on L...</td>\n",
       "      <td>2009-05-04 13:54:25</td>\n",
       "      <td>510</td>\n",
       "      <td>917</td>\n",
       "      <td>2009</td>\n",
       "      <td>5</td>\n",
       "      <td>4</td>\n",
       "      <td>13</td>\n",
       "      <td>54</td>\n",
       "    </tr>\n",
       "    <tr>\n",
       "      <th>1701461182</th>\n",
       "      <td>Donald Trump will be appearing on The View tom...</td>\n",
       "      <td>2009-05-04 20:00:10</td>\n",
       "      <td>34</td>\n",
       "      <td>267</td>\n",
       "      <td>2009</td>\n",
       "      <td>5</td>\n",
       "      <td>4</td>\n",
       "      <td>20</td>\n",
       "      <td>0</td>\n",
       "    </tr>\n",
       "  </tbody>\n",
       "</table>\n",
       "</div>"
      ],
      "text/plain": [
       "                                                      content  \\\n",
       "id                                                              \n",
       "1698308935  Be sure to tune in and watch Donald Trump on L...   \n",
       "1701461182  Donald Trump will be appearing on The View tom...   \n",
       "\n",
       "                          date  retweets  favorites  year  month  day  hour  \\\n",
       "id                                                                            \n",
       "1698308935 2009-05-04 13:54:25       510        917  2009      5    4    13   \n",
       "1701461182 2009-05-04 20:00:10        34        267  2009      5    4    20   \n",
       "\n",
       "            minute  \n",
       "id                  \n",
       "1698308935      54  \n",
       "1701461182       0  "
      ]
     },
     "execution_count": 15,
     "metadata": {},
     "output_type": "execute_result"
    }
   ],
   "source": [
    "df_trump.head(2)"
   ]
  },
  {
   "cell_type": "markdown",
   "id": "d6d23d41",
   "metadata": {},
   "source": [
    "**Note_4.1:** This looks great, but now I dont really want the 'date' column, so I will drop it."
   ]
  },
  {
   "cell_type": "code",
   "execution_count": 16,
   "id": "cc108e5e",
   "metadata": {},
   "outputs": [],
   "source": [
    "df_trump.drop(['date'], axis=1, inplace = True)"
   ]
  },
  {
   "cell_type": "code",
   "execution_count": 17,
   "id": "4d3f64ac",
   "metadata": {},
   "outputs": [
    {
     "data": {
      "text/html": [
       "<div>\n",
       "<style scoped>\n",
       "    .dataframe tbody tr th:only-of-type {\n",
       "        vertical-align: middle;\n",
       "    }\n",
       "\n",
       "    .dataframe tbody tr th {\n",
       "        vertical-align: top;\n",
       "    }\n",
       "\n",
       "    .dataframe thead th {\n",
       "        text-align: right;\n",
       "    }\n",
       "</style>\n",
       "<table border=\"1\" class=\"dataframe\">\n",
       "  <thead>\n",
       "    <tr style=\"text-align: right;\">\n",
       "      <th></th>\n",
       "      <th>content</th>\n",
       "      <th>retweets</th>\n",
       "      <th>favorites</th>\n",
       "      <th>year</th>\n",
       "      <th>month</th>\n",
       "      <th>day</th>\n",
       "      <th>hour</th>\n",
       "      <th>minute</th>\n",
       "    </tr>\n",
       "    <tr>\n",
       "      <th>id</th>\n",
       "      <th></th>\n",
       "      <th></th>\n",
       "      <th></th>\n",
       "      <th></th>\n",
       "      <th></th>\n",
       "      <th></th>\n",
       "      <th></th>\n",
       "      <th></th>\n",
       "    </tr>\n",
       "  </thead>\n",
       "  <tbody>\n",
       "    <tr>\n",
       "      <th>1698308935</th>\n",
       "      <td>Be sure to tune in and watch Donald Trump on L...</td>\n",
       "      <td>510</td>\n",
       "      <td>917</td>\n",
       "      <td>2009</td>\n",
       "      <td>5</td>\n",
       "      <td>4</td>\n",
       "      <td>13</td>\n",
       "      <td>54</td>\n",
       "    </tr>\n",
       "    <tr>\n",
       "      <th>1701461182</th>\n",
       "      <td>Donald Trump will be appearing on The View tom...</td>\n",
       "      <td>34</td>\n",
       "      <td>267</td>\n",
       "      <td>2009</td>\n",
       "      <td>5</td>\n",
       "      <td>4</td>\n",
       "      <td>20</td>\n",
       "      <td>0</td>\n",
       "    </tr>\n",
       "  </tbody>\n",
       "</table>\n",
       "</div>"
      ],
      "text/plain": [
       "                                                      content  retweets  \\\n",
       "id                                                                        \n",
       "1698308935  Be sure to tune in and watch Donald Trump on L...       510   \n",
       "1701461182  Donald Trump will be appearing on The View tom...        34   \n",
       "\n",
       "            favorites  year  month  day  hour  minute  \n",
       "id                                                     \n",
       "1698308935        917  2009      5    4    13      54  \n",
       "1701461182        267  2009      5    4    20       0  "
      ]
     },
     "execution_count": 17,
     "metadata": {},
     "output_type": "execute_result"
    }
   ],
   "source": [
    "df_trump.head(2)"
   ]
  },
  {
   "cell_type": "markdown",
   "id": "f9ec34ee",
   "metadata": {},
   "source": [
    "**Note_4:** I love how the date looks now and split, but I want to check their types!!"
   ]
  },
  {
   "cell_type": "code",
   "execution_count": 18,
   "id": "0cc95e3b",
   "metadata": {},
   "outputs": [
    {
     "data": {
      "text/plain": [
       "content      object\n",
       "retweets      int64\n",
       "favorites     int64\n",
       "year          int64\n",
       "month         int64\n",
       "day           int64\n",
       "hour          int64\n",
       "minute        int64\n",
       "dtype: object"
      ]
     },
     "execution_count": 18,
     "metadata": {},
     "output_type": "execute_result"
    }
   ],
   "source": [
    "df_trump.dtypes"
   ]
  },
  {
   "cell_type": "code",
   "execution_count": 19,
   "id": "2bea9a39",
   "metadata": {},
   "outputs": [
    {
     "data": {
      "text/plain": [
       "content      0\n",
       "retweets     0\n",
       "favorites    0\n",
       "year         0\n",
       "month        0\n",
       "day          0\n",
       "hour         0\n",
       "minute       0\n",
       "dtype: int64"
      ]
     },
     "execution_count": 19,
     "metadata": {},
     "output_type": "execute_result"
    }
   ],
   "source": [
    "df_trump.isnull().sum()"
   ]
  },
  {
   "cell_type": "markdown",
   "id": "d7fb98ab",
   "metadata": {},
   "source": [
    "**AMAZING** this is what I wanted to see and use.\n",
    "\n",
    "**Let´s save the file**"
   ]
  },
  {
   "cell_type": "code",
   "execution_count": 20,
   "id": "7092eab6",
   "metadata": {},
   "outputs": [],
   "source": [
    "df_trump.to_csv('../data/trumpnew.csv')"
   ]
  },
  {
   "cell_type": "markdown",
   "id": "bd85a405",
   "metadata": {},
   "source": [
    "**SOME BONUS CONCLUSIONS**\n",
    "\n",
    "    Note these are not relevant for overall analysis. "
   ]
  },
  {
   "cell_type": "code",
   "execution_count": 21,
   "id": "5ca20aad",
   "metadata": {},
   "outputs": [
    {
     "data": {
      "text/html": [
       "<div>\n",
       "<style scoped>\n",
       "    .dataframe tbody tr th:only-of-type {\n",
       "        vertical-align: middle;\n",
       "    }\n",
       "\n",
       "    .dataframe tbody tr th {\n",
       "        vertical-align: top;\n",
       "    }\n",
       "\n",
       "    .dataframe thead th {\n",
       "        text-align: right;\n",
       "    }\n",
       "</style>\n",
       "<table border=\"1\" class=\"dataframe\">\n",
       "  <thead>\n",
       "    <tr style=\"text-align: right;\">\n",
       "      <th></th>\n",
       "      <th>month</th>\n",
       "      <th>year</th>\n",
       "      <th>count</th>\n",
       "      <th>percent</th>\n",
       "      <th>cumulative_count</th>\n",
       "      <th>cumulative_percent</th>\n",
       "    </tr>\n",
       "  </thead>\n",
       "  <tbody>\n",
       "    <tr>\n",
       "      <th>0</th>\n",
       "      <td>1</td>\n",
       "      <td>2015</td>\n",
       "      <td>1145</td>\n",
       "      <td>2.641170</td>\n",
       "      <td>1145</td>\n",
       "      <td>2.641170</td>\n",
       "    </tr>\n",
       "    <tr>\n",
       "      <th>1</th>\n",
       "      <td>2</td>\n",
       "      <td>2013</td>\n",
       "      <td>926</td>\n",
       "      <td>2.136003</td>\n",
       "      <td>2071</td>\n",
       "      <td>4.777173</td>\n",
       "    </tr>\n",
       "    <tr>\n",
       "      <th>2</th>\n",
       "      <td>4</td>\n",
       "      <td>2013</td>\n",
       "      <td>912</td>\n",
       "      <td>2.103709</td>\n",
       "      <td>2983</td>\n",
       "      <td>6.880882</td>\n",
       "    </tr>\n",
       "    <tr>\n",
       "      <th>3</th>\n",
       "      <td>3</td>\n",
       "      <td>2013</td>\n",
       "      <td>871</td>\n",
       "      <td>2.009135</td>\n",
       "      <td>3854</td>\n",
       "      <td>8.890017</td>\n",
       "    </tr>\n",
       "    <tr>\n",
       "      <th>4</th>\n",
       "      <td>1</td>\n",
       "      <td>2013</td>\n",
       "      <td>814</td>\n",
       "      <td>1.877653</td>\n",
       "      <td>4668</td>\n",
       "      <td>10.767669</td>\n",
       "    </tr>\n",
       "    <tr>\n",
       "      <th>...</th>\n",
       "      <td>...</td>\n",
       "      <td>...</td>\n",
       "      <td>...</td>\n",
       "      <td>...</td>\n",
       "      <td>...</td>\n",
       "      <td>...</td>\n",
       "    </tr>\n",
       "    <tr>\n",
       "      <th>129</th>\n",
       "      <td>2</td>\n",
       "      <td>2010</td>\n",
       "      <td>4</td>\n",
       "      <td>0.009227</td>\n",
       "      <td>43340</td>\n",
       "      <td>99.972320</td>\n",
       "    </tr>\n",
       "    <tr>\n",
       "      <th>130</th>\n",
       "      <td>1</td>\n",
       "      <td>2010</td>\n",
       "      <td>4</td>\n",
       "      <td>0.009227</td>\n",
       "      <td>43344</td>\n",
       "      <td>99.981546</td>\n",
       "    </tr>\n",
       "    <tr>\n",
       "      <th>131</th>\n",
       "      <td>11</td>\n",
       "      <td>2009</td>\n",
       "      <td>3</td>\n",
       "      <td>0.006920</td>\n",
       "      <td>43347</td>\n",
       "      <td>99.988467</td>\n",
       "    </tr>\n",
       "    <tr>\n",
       "      <th>132</th>\n",
       "      <td>9</td>\n",
       "      <td>2009</td>\n",
       "      <td>3</td>\n",
       "      <td>0.006920</td>\n",
       "      <td>43350</td>\n",
       "      <td>99.995387</td>\n",
       "    </tr>\n",
       "    <tr>\n",
       "      <th>133</th>\n",
       "      <td>12</td>\n",
       "      <td>2009</td>\n",
       "      <td>2</td>\n",
       "      <td>0.004613</td>\n",
       "      <td>43352</td>\n",
       "      <td>100.000000</td>\n",
       "    </tr>\n",
       "  </tbody>\n",
       "</table>\n",
       "<p>134 rows × 6 columns</p>\n",
       "</div>"
      ],
      "text/plain": [
       "     month  year  count   percent  cumulative_count  cumulative_percent\n",
       "0        1  2015   1145  2.641170              1145            2.641170\n",
       "1        2  2013    926  2.136003              2071            4.777173\n",
       "2        4  2013    912  2.103709              2983            6.880882\n",
       "3        3  2013    871  2.009135              3854            8.890017\n",
       "4        1  2013    814  1.877653              4668           10.767669\n",
       "..     ...   ...    ...       ...               ...                 ...\n",
       "129      2  2010      4  0.009227             43340           99.972320\n",
       "130      1  2010      4  0.009227             43344           99.981546\n",
       "131     11  2009      3  0.006920             43347           99.988467\n",
       "132      9  2009      3  0.006920             43350           99.995387\n",
       "133     12  2009      2  0.004613             43352          100.000000\n",
       "\n",
       "[134 rows x 6 columns]"
      ]
     },
     "execution_count": 21,
     "metadata": {},
     "output_type": "execute_result"
    }
   ],
   "source": [
    "df_trump.stb.freq(['month','year'])"
   ]
  },
  {
   "cell_type": "code",
   "execution_count": 22,
   "id": "f15b0489",
   "metadata": {},
   "outputs": [
    {
     "data": {
      "text/html": [
       "<div>\n",
       "<style scoped>\n",
       "    .dataframe tbody tr th:only-of-type {\n",
       "        vertical-align: middle;\n",
       "    }\n",
       "\n",
       "    .dataframe tbody tr th {\n",
       "        vertical-align: top;\n",
       "    }\n",
       "\n",
       "    .dataframe thead th {\n",
       "        text-align: right;\n",
       "    }\n",
       "</style>\n",
       "<table border=\"1\" class=\"dataframe\">\n",
       "  <thead>\n",
       "    <tr style=\"text-align: right;\">\n",
       "      <th></th>\n",
       "      <th>year</th>\n",
       "      <th>month</th>\n",
       "      <th>count</th>\n",
       "      <th>percent</th>\n",
       "      <th>cumulative_count</th>\n",
       "      <th>cumulative_percent</th>\n",
       "    </tr>\n",
       "  </thead>\n",
       "  <tbody>\n",
       "    <tr>\n",
       "      <th>0</th>\n",
       "      <td>2015</td>\n",
       "      <td>1</td>\n",
       "      <td>1145</td>\n",
       "      <td>2.641170</td>\n",
       "      <td>1145</td>\n",
       "      <td>2.641170</td>\n",
       "    </tr>\n",
       "    <tr>\n",
       "      <th>1</th>\n",
       "      <td>2013</td>\n",
       "      <td>2</td>\n",
       "      <td>926</td>\n",
       "      <td>2.136003</td>\n",
       "      <td>2071</td>\n",
       "      <td>4.777173</td>\n",
       "    </tr>\n",
       "    <tr>\n",
       "      <th>2</th>\n",
       "      <td>2013</td>\n",
       "      <td>4</td>\n",
       "      <td>912</td>\n",
       "      <td>2.103709</td>\n",
       "      <td>2983</td>\n",
       "      <td>6.880882</td>\n",
       "    </tr>\n",
       "    <tr>\n",
       "      <th>3</th>\n",
       "      <td>2013</td>\n",
       "      <td>3</td>\n",
       "      <td>871</td>\n",
       "      <td>2.009135</td>\n",
       "      <td>3854</td>\n",
       "      <td>8.890017</td>\n",
       "    </tr>\n",
       "    <tr>\n",
       "      <th>4</th>\n",
       "      <td>2013</td>\n",
       "      <td>1</td>\n",
       "      <td>814</td>\n",
       "      <td>1.877653</td>\n",
       "      <td>4668</td>\n",
       "      <td>10.767669</td>\n",
       "    </tr>\n",
       "    <tr>\n",
       "      <th>...</th>\n",
       "      <td>...</td>\n",
       "      <td>...</td>\n",
       "      <td>...</td>\n",
       "      <td>...</td>\n",
       "      <td>...</td>\n",
       "      <td>...</td>\n",
       "    </tr>\n",
       "    <tr>\n",
       "      <th>129</th>\n",
       "      <td>2010</td>\n",
       "      <td>1</td>\n",
       "      <td>4</td>\n",
       "      <td>0.009227</td>\n",
       "      <td>43340</td>\n",
       "      <td>99.972320</td>\n",
       "    </tr>\n",
       "    <tr>\n",
       "      <th>130</th>\n",
       "      <td>2009</td>\n",
       "      <td>10</td>\n",
       "      <td>4</td>\n",
       "      <td>0.009227</td>\n",
       "      <td>43344</td>\n",
       "      <td>99.981546</td>\n",
       "    </tr>\n",
       "    <tr>\n",
       "      <th>131</th>\n",
       "      <td>2009</td>\n",
       "      <td>11</td>\n",
       "      <td>3</td>\n",
       "      <td>0.006920</td>\n",
       "      <td>43347</td>\n",
       "      <td>99.988467</td>\n",
       "    </tr>\n",
       "    <tr>\n",
       "      <th>132</th>\n",
       "      <td>2009</td>\n",
       "      <td>9</td>\n",
       "      <td>3</td>\n",
       "      <td>0.006920</td>\n",
       "      <td>43350</td>\n",
       "      <td>99.995387</td>\n",
       "    </tr>\n",
       "    <tr>\n",
       "      <th>133</th>\n",
       "      <td>2009</td>\n",
       "      <td>12</td>\n",
       "      <td>2</td>\n",
       "      <td>0.004613</td>\n",
       "      <td>43352</td>\n",
       "      <td>100.000000</td>\n",
       "    </tr>\n",
       "  </tbody>\n",
       "</table>\n",
       "<p>134 rows × 6 columns</p>\n",
       "</div>"
      ],
      "text/plain": [
       "     year  month  count   percent  cumulative_count  cumulative_percent\n",
       "0    2015      1   1145  2.641170              1145            2.641170\n",
       "1    2013      2    926  2.136003              2071            4.777173\n",
       "2    2013      4    912  2.103709              2983            6.880882\n",
       "3    2013      3    871  2.009135              3854            8.890017\n",
       "4    2013      1    814  1.877653              4668           10.767669\n",
       "..    ...    ...    ...       ...               ...                 ...\n",
       "129  2010      1      4  0.009227             43340           99.972320\n",
       "130  2009     10      4  0.009227             43344           99.981546\n",
       "131  2009     11      3  0.006920             43347           99.988467\n",
       "132  2009      9      3  0.006920             43350           99.995387\n",
       "133  2009     12      2  0.004613             43352          100.000000\n",
       "\n",
       "[134 rows x 6 columns]"
      ]
     },
     "execution_count": 22,
     "metadata": {},
     "output_type": "execute_result"
    }
   ],
   "source": [
    "df_trump.stb.freq(['year','month'])"
   ]
  }
 ],
 "metadata": {
  "kernelspec": {
   "display_name": "Python 3 (ipykernel)",
   "language": "python",
   "name": "python3"
  },
  "language_info": {
   "codemirror_mode": {
    "name": "ipython",
    "version": 3
   },
   "file_extension": ".py",
   "mimetype": "text/x-python",
   "name": "python",
   "nbconvert_exporter": "python",
   "pygments_lexer": "ipython3",
   "version": "3.9.7"
  }
 },
 "nbformat": 4,
 "nbformat_minor": 5
}
