{
 "cells": [
  {
   "cell_type": "code",
   "execution_count": 1,
   "id": "ac92f0a7",
   "metadata": {},
   "outputs": [],
   "source": [
    "import pandas as pd\n",
    "import numpy as np\n",
    "import sidetable #we might not use it, but just in case\n",
    "import datetime"
   ]
  },
  {
   "cell_type": "code",
   "execution_count": 2,
   "id": "a6331385",
   "metadata": {
    "scrolled": true
   },
   "outputs": [
    {
     "data": {
      "text/html": [
       "<div>\n",
       "<style scoped>\n",
       "    .dataframe tbody tr th:only-of-type {\n",
       "        vertical-align: middle;\n",
       "    }\n",
       "\n",
       "    .dataframe tbody tr th {\n",
       "        vertical-align: top;\n",
       "    }\n",
       "\n",
       "    .dataframe thead th {\n",
       "        text-align: right;\n",
       "    }\n",
       "</style>\n",
       "<table border=\"1\" class=\"dataframe\">\n",
       "  <thead>\n",
       "    <tr style=\"text-align: right;\">\n",
       "      <th></th>\n",
       "      <th>cycle</th>\n",
       "      <th>branch</th>\n",
       "      <th>type</th>\n",
       "      <th>matchup</th>\n",
       "      <th>forecastdate</th>\n",
       "      <th>state</th>\n",
       "      <th>startdate</th>\n",
       "      <th>enddate</th>\n",
       "      <th>pollster</th>\n",
       "      <th>grade</th>\n",
       "      <th>...</th>\n",
       "      <th>adjpoll_clinton</th>\n",
       "      <th>adjpoll_trump</th>\n",
       "      <th>adjpoll_johnson</th>\n",
       "      <th>adjpoll_mcmullin</th>\n",
       "      <th>multiversions</th>\n",
       "      <th>url</th>\n",
       "      <th>poll_id</th>\n",
       "      <th>question_id</th>\n",
       "      <th>createddate</th>\n",
       "      <th>timestamp</th>\n",
       "    </tr>\n",
       "  </thead>\n",
       "  <tbody>\n",
       "    <tr>\n",
       "      <th>0</th>\n",
       "      <td>2016</td>\n",
       "      <td>President</td>\n",
       "      <td>polls-plus</td>\n",
       "      <td>Clinton vs. Trump vs. Johnson</td>\n",
       "      <td>11/1/16</td>\n",
       "      <td>U.S.</td>\n",
       "      <td>10/25/2016</td>\n",
       "      <td>10/31/2016</td>\n",
       "      <td>Google Consumer Surveys</td>\n",
       "      <td>B</td>\n",
       "      <td>...</td>\n",
       "      <td>42.64140</td>\n",
       "      <td>40.86509</td>\n",
       "      <td>5.675099</td>\n",
       "      <td>NaN</td>\n",
       "      <td>NaN</td>\n",
       "      <td>https://datastudio.google.com/u/0/#/org//repor...</td>\n",
       "      <td>47940</td>\n",
       "      <td>74999</td>\n",
       "      <td>11/1/16</td>\n",
       "      <td>15:09:38  1 Nov 2016</td>\n",
       "    </tr>\n",
       "    <tr>\n",
       "      <th>1</th>\n",
       "      <td>2016</td>\n",
       "      <td>President</td>\n",
       "      <td>polls-plus</td>\n",
       "      <td>Clinton vs. Trump vs. Johnson</td>\n",
       "      <td>11/1/16</td>\n",
       "      <td>U.S.</td>\n",
       "      <td>10/27/2016</td>\n",
       "      <td>10/30/2016</td>\n",
       "      <td>ABC News/Washington Post</td>\n",
       "      <td>A+</td>\n",
       "      <td>...</td>\n",
       "      <td>43.29659</td>\n",
       "      <td>44.72984</td>\n",
       "      <td>3.401513</td>\n",
       "      <td>NaN</td>\n",
       "      <td>NaN</td>\n",
       "      <td>http://www.langerresearch.com/wp-content/uploa...</td>\n",
       "      <td>47881</td>\n",
       "      <td>74936</td>\n",
       "      <td>11/1/16</td>\n",
       "      <td>15:09:38  1 Nov 2016</td>\n",
       "    </tr>\n",
       "  </tbody>\n",
       "</table>\n",
       "<p>2 rows × 27 columns</p>\n",
       "</div>"
      ],
      "text/plain": [
       "   cycle     branch        type                        matchup forecastdate  \\\n",
       "0   2016  President  polls-plus  Clinton vs. Trump vs. Johnson      11/1/16   \n",
       "1   2016  President  polls-plus  Clinton vs. Trump vs. Johnson      11/1/16   \n",
       "\n",
       "  state   startdate     enddate                  pollster grade  ...  \\\n",
       "0  U.S.  10/25/2016  10/31/2016   Google Consumer Surveys     B  ...   \n",
       "1  U.S.  10/27/2016  10/30/2016  ABC News/Washington Post    A+  ...   \n",
       "\n",
       "   adjpoll_clinton adjpoll_trump  adjpoll_johnson  adjpoll_mcmullin  \\\n",
       "0         42.64140      40.86509         5.675099               NaN   \n",
       "1         43.29659      44.72984         3.401513               NaN   \n",
       "\n",
       "   multiversions                                                url  poll_id  \\\n",
       "0            NaN  https://datastudio.google.com/u/0/#/org//repor...    47940   \n",
       "1            NaN  http://www.langerresearch.com/wp-content/uploa...    47881   \n",
       "\n",
       "   question_id  createddate             timestamp  \n",
       "0        74999      11/1/16  15:09:38  1 Nov 2016  \n",
       "1        74936      11/1/16  15:09:38  1 Nov 2016  \n",
       "\n",
       "[2 rows x 27 columns]"
      ]
     },
     "execution_count": 2,
     "metadata": {},
     "output_type": "execute_result"
    }
   ],
   "source": [
    "df_presi = pd.read_csv('../data/presidential_polls.csv')\n",
    "df_presi.head(2)"
   ]
  },
  {
   "cell_type": "code",
   "execution_count": 3,
   "id": "0221b5ff",
   "metadata": {},
   "outputs": [
    {
     "data": {
      "text/plain": [
       "(10236, 27)"
      ]
     },
     "execution_count": 3,
     "metadata": {},
     "output_type": "execute_result"
    }
   ],
   "source": [
    "df_presi.shape"
   ]
  },
  {
   "cell_type": "code",
   "execution_count": 4,
   "id": "8fa9ff79",
   "metadata": {},
   "outputs": [
    {
     "data": {
      "text/plain": [
       "Index(['cycle', 'branch', 'type', 'matchup', 'forecastdate', 'state',\n",
       "       'startdate', 'enddate', 'pollster', 'grade', 'samplesize', 'population',\n",
       "       'poll_wt', 'rawpoll_clinton', 'rawpoll_trump', 'rawpoll_johnson',\n",
       "       'rawpoll_mcmullin', 'adjpoll_clinton', 'adjpoll_trump',\n",
       "       'adjpoll_johnson', 'adjpoll_mcmullin', 'multiversions', 'url',\n",
       "       'poll_id', 'question_id', 'createddate', 'timestamp'],\n",
       "      dtype='object')"
      ]
     },
     "execution_count": 4,
     "metadata": {},
     "output_type": "execute_result"
    }
   ],
   "source": [
    "df_presi.columns"
   ]
  },
  {
   "cell_type": "code",
   "execution_count": 5,
   "id": "451a683d",
   "metadata": {},
   "outputs": [
    {
     "data": {
      "text/plain": [
       "6824"
      ]
     },
     "execution_count": 5,
     "metadata": {},
     "output_type": "execute_result"
    }
   ],
   "source": [
    "df_presi.duplicated(['poll_id']).sum()"
   ]
  },
  {
   "cell_type": "code",
   "execution_count": 6,
   "id": "d9cf14cd",
   "metadata": {},
   "outputs": [],
   "source": [
    "df_presi.drop(['type','forecastdate','startdate','adjpoll_mcmullin', 'multiversions', 'url',\n",
    "       'poll_id', 'question_id', 'createddate', 'timestamp','cycle', 'branch','rawpoll_johnson',\n",
    "       'rawpoll_mcmullin','rawpoll_clinton', 'rawpoll_trump','adjpoll_johnson','population','grade'], axis = 1, inplace = True)"
   ]
  },
  {
   "cell_type": "code",
   "execution_count": 7,
   "id": "237f39c4",
   "metadata": {},
   "outputs": [
    {
     "data": {
      "text/html": [
       "<div>\n",
       "<style scoped>\n",
       "    .dataframe tbody tr th:only-of-type {\n",
       "        vertical-align: middle;\n",
       "    }\n",
       "\n",
       "    .dataframe tbody tr th {\n",
       "        vertical-align: top;\n",
       "    }\n",
       "\n",
       "    .dataframe thead th {\n",
       "        text-align: right;\n",
       "    }\n",
       "</style>\n",
       "<table border=\"1\" class=\"dataframe\">\n",
       "  <thead>\n",
       "    <tr style=\"text-align: right;\">\n",
       "      <th></th>\n",
       "      <th>matchup</th>\n",
       "      <th>state</th>\n",
       "      <th>enddate</th>\n",
       "      <th>pollster</th>\n",
       "      <th>samplesize</th>\n",
       "      <th>poll_wt</th>\n",
       "      <th>adjpoll_clinton</th>\n",
       "      <th>adjpoll_trump</th>\n",
       "    </tr>\n",
       "  </thead>\n",
       "  <tbody>\n",
       "    <tr>\n",
       "      <th>0</th>\n",
       "      <td>Clinton vs. Trump vs. Johnson</td>\n",
       "      <td>U.S.</td>\n",
       "      <td>10/31/2016</td>\n",
       "      <td>Google Consumer Surveys</td>\n",
       "      <td>24316.0</td>\n",
       "      <td>6.139129</td>\n",
       "      <td>42.64140</td>\n",
       "      <td>40.86509</td>\n",
       "    </tr>\n",
       "    <tr>\n",
       "      <th>1</th>\n",
       "      <td>Clinton vs. Trump vs. Johnson</td>\n",
       "      <td>U.S.</td>\n",
       "      <td>10/30/2016</td>\n",
       "      <td>ABC News/Washington Post</td>\n",
       "      <td>1128.0</td>\n",
       "      <td>4.197292</td>\n",
       "      <td>43.29659</td>\n",
       "      <td>44.72984</td>\n",
       "    </tr>\n",
       "  </tbody>\n",
       "</table>\n",
       "</div>"
      ],
      "text/plain": [
       "                         matchup state     enddate                  pollster  \\\n",
       "0  Clinton vs. Trump vs. Johnson  U.S.  10/31/2016   Google Consumer Surveys   \n",
       "1  Clinton vs. Trump vs. Johnson  U.S.  10/30/2016  ABC News/Washington Post   \n",
       "\n",
       "   samplesize   poll_wt  adjpoll_clinton  adjpoll_trump  \n",
       "0     24316.0  6.139129         42.64140       40.86509  \n",
       "1      1128.0  4.197292         43.29659       44.72984  "
      ]
     },
     "execution_count": 7,
     "metadata": {},
     "output_type": "execute_result"
    }
   ],
   "source": [
    "df_presi.head(2)"
   ]
  },
  {
   "cell_type": "code",
   "execution_count": 8,
   "id": "579ff0d6",
   "metadata": {},
   "outputs": [
    {
     "data": {
      "text/plain": [
       "matchup             object\n",
       "state               object\n",
       "enddate             object\n",
       "pollster            object\n",
       "samplesize         float64\n",
       "poll_wt            float64\n",
       "adjpoll_clinton    float64\n",
       "adjpoll_trump      float64\n",
       "dtype: object"
      ]
     },
     "execution_count": 8,
     "metadata": {},
     "output_type": "execute_result"
    }
   ],
   "source": [
    "df_presi.dtypes"
   ]
  },
  {
   "cell_type": "code",
   "execution_count": 9,
   "id": "359c532c",
   "metadata": {},
   "outputs": [],
   "source": [
    "#this is looknig good, however now I need the enddate to be in date format"
   ]
  },
  {
   "cell_type": "code",
   "execution_count": 10,
   "id": "438a3806",
   "metadata": {},
   "outputs": [],
   "source": [
    "df_presi['date'] = pd.to_datetime(df_presi['enddate'], format='%m/%d/%Y')"
   ]
  },
  {
   "cell_type": "code",
   "execution_count": 11,
   "id": "43db50df",
   "metadata": {},
   "outputs": [],
   "source": [
    "df_presi.drop(['enddate'], axis = 1, inplace = True)"
   ]
  },
  {
   "cell_type": "code",
   "execution_count": 12,
   "id": "39f25186",
   "metadata": {},
   "outputs": [
    {
     "data": {
      "text/html": [
       "<div>\n",
       "<style scoped>\n",
       "    .dataframe tbody tr th:only-of-type {\n",
       "        vertical-align: middle;\n",
       "    }\n",
       "\n",
       "    .dataframe tbody tr th {\n",
       "        vertical-align: top;\n",
       "    }\n",
       "\n",
       "    .dataframe thead th {\n",
       "        text-align: right;\n",
       "    }\n",
       "</style>\n",
       "<table border=\"1\" class=\"dataframe\">\n",
       "  <thead>\n",
       "    <tr style=\"text-align: right;\">\n",
       "      <th></th>\n",
       "      <th>matchup</th>\n",
       "      <th>state</th>\n",
       "      <th>pollster</th>\n",
       "      <th>samplesize</th>\n",
       "      <th>poll_wt</th>\n",
       "      <th>adjpoll_clinton</th>\n",
       "      <th>adjpoll_trump</th>\n",
       "      <th>date</th>\n",
       "    </tr>\n",
       "  </thead>\n",
       "  <tbody>\n",
       "    <tr>\n",
       "      <th>0</th>\n",
       "      <td>Clinton vs. Trump vs. Johnson</td>\n",
       "      <td>U.S.</td>\n",
       "      <td>Google Consumer Surveys</td>\n",
       "      <td>24316.0</td>\n",
       "      <td>6.139129</td>\n",
       "      <td>42.64140</td>\n",
       "      <td>40.86509</td>\n",
       "      <td>2016-10-31</td>\n",
       "    </tr>\n",
       "    <tr>\n",
       "      <th>1</th>\n",
       "      <td>Clinton vs. Trump vs. Johnson</td>\n",
       "      <td>U.S.</td>\n",
       "      <td>ABC News/Washington Post</td>\n",
       "      <td>1128.0</td>\n",
       "      <td>4.197292</td>\n",
       "      <td>43.29659</td>\n",
       "      <td>44.72984</td>\n",
       "      <td>2016-10-30</td>\n",
       "    </tr>\n",
       "  </tbody>\n",
       "</table>\n",
       "</div>"
      ],
      "text/plain": [
       "                         matchup state                  pollster  samplesize  \\\n",
       "0  Clinton vs. Trump vs. Johnson  U.S.   Google Consumer Surveys     24316.0   \n",
       "1  Clinton vs. Trump vs. Johnson  U.S.  ABC News/Washington Post      1128.0   \n",
       "\n",
       "    poll_wt  adjpoll_clinton  adjpoll_trump       date  \n",
       "0  6.139129         42.64140       40.86509 2016-10-31  \n",
       "1  4.197292         43.29659       44.72984 2016-10-30  "
      ]
     },
     "execution_count": 12,
     "metadata": {},
     "output_type": "execute_result"
    }
   ],
   "source": [
    "df_presi.head(2)"
   ]
  },
  {
   "cell_type": "code",
   "execution_count": 13,
   "id": "a408b8f7",
   "metadata": {},
   "outputs": [],
   "source": [
    "df_presi['year'] = df_presi['date'].dt.year\n",
    "df_presi['month'] = df_presi['date'].dt.month\n",
    "df_presi['day'] = df_presi['date'].dt.day"
   ]
  },
  {
   "cell_type": "code",
   "execution_count": 14,
   "id": "4d3ecd36",
   "metadata": {},
   "outputs": [
    {
     "data": {
      "text/html": [
       "<div>\n",
       "<style scoped>\n",
       "    .dataframe tbody tr th:only-of-type {\n",
       "        vertical-align: middle;\n",
       "    }\n",
       "\n",
       "    .dataframe tbody tr th {\n",
       "        vertical-align: top;\n",
       "    }\n",
       "\n",
       "    .dataframe thead th {\n",
       "        text-align: right;\n",
       "    }\n",
       "</style>\n",
       "<table border=\"1\" class=\"dataframe\">\n",
       "  <thead>\n",
       "    <tr style=\"text-align: right;\">\n",
       "      <th></th>\n",
       "      <th>matchup</th>\n",
       "      <th>state</th>\n",
       "      <th>pollster</th>\n",
       "      <th>samplesize</th>\n",
       "      <th>poll_wt</th>\n",
       "      <th>adjpoll_clinton</th>\n",
       "      <th>adjpoll_trump</th>\n",
       "      <th>date</th>\n",
       "      <th>year</th>\n",
       "      <th>month</th>\n",
       "      <th>day</th>\n",
       "    </tr>\n",
       "  </thead>\n",
       "  <tbody>\n",
       "    <tr>\n",
       "      <th>0</th>\n",
       "      <td>Clinton vs. Trump vs. Johnson</td>\n",
       "      <td>U.S.</td>\n",
       "      <td>Google Consumer Surveys</td>\n",
       "      <td>24316.0</td>\n",
       "      <td>6.139129</td>\n",
       "      <td>42.64140</td>\n",
       "      <td>40.86509</td>\n",
       "      <td>2016-10-31</td>\n",
       "      <td>2016</td>\n",
       "      <td>10</td>\n",
       "      <td>31</td>\n",
       "    </tr>\n",
       "    <tr>\n",
       "      <th>1</th>\n",
       "      <td>Clinton vs. Trump vs. Johnson</td>\n",
       "      <td>U.S.</td>\n",
       "      <td>ABC News/Washington Post</td>\n",
       "      <td>1128.0</td>\n",
       "      <td>4.197292</td>\n",
       "      <td>43.29659</td>\n",
       "      <td>44.72984</td>\n",
       "      <td>2016-10-30</td>\n",
       "      <td>2016</td>\n",
       "      <td>10</td>\n",
       "      <td>30</td>\n",
       "    </tr>\n",
       "  </tbody>\n",
       "</table>\n",
       "</div>"
      ],
      "text/plain": [
       "                         matchup state                  pollster  samplesize  \\\n",
       "0  Clinton vs. Trump vs. Johnson  U.S.   Google Consumer Surveys     24316.0   \n",
       "1  Clinton vs. Trump vs. Johnson  U.S.  ABC News/Washington Post      1128.0   \n",
       "\n",
       "    poll_wt  adjpoll_clinton  adjpoll_trump       date  year  month  day  \n",
       "0  6.139129         42.64140       40.86509 2016-10-31  2016     10   31  \n",
       "1  4.197292         43.29659       44.72984 2016-10-30  2016     10   30  "
      ]
     },
     "execution_count": 14,
     "metadata": {},
     "output_type": "execute_result"
    }
   ],
   "source": [
    "df_presi.head(2)"
   ]
  },
  {
   "cell_type": "code",
   "execution_count": 15,
   "id": "2cf07042",
   "metadata": {},
   "outputs": [],
   "source": [
    "df_presi.drop(['date'], axis = 1, inplace = True)"
   ]
  },
  {
   "cell_type": "code",
   "execution_count": 16,
   "id": "4c67ac04",
   "metadata": {},
   "outputs": [
    {
     "data": {
      "text/html": [
       "<div>\n",
       "<style scoped>\n",
       "    .dataframe tbody tr th:only-of-type {\n",
       "        vertical-align: middle;\n",
       "    }\n",
       "\n",
       "    .dataframe tbody tr th {\n",
       "        vertical-align: top;\n",
       "    }\n",
       "\n",
       "    .dataframe thead th {\n",
       "        text-align: right;\n",
       "    }\n",
       "</style>\n",
       "<table border=\"1\" class=\"dataframe\">\n",
       "  <thead>\n",
       "    <tr style=\"text-align: right;\">\n",
       "      <th></th>\n",
       "      <th>matchup</th>\n",
       "      <th>state</th>\n",
       "      <th>pollster</th>\n",
       "      <th>samplesize</th>\n",
       "      <th>poll_wt</th>\n",
       "      <th>adjpoll_clinton</th>\n",
       "      <th>adjpoll_trump</th>\n",
       "      <th>year</th>\n",
       "      <th>month</th>\n",
       "      <th>day</th>\n",
       "    </tr>\n",
       "  </thead>\n",
       "  <tbody>\n",
       "    <tr>\n",
       "      <th>0</th>\n",
       "      <td>Clinton vs. Trump vs. Johnson</td>\n",
       "      <td>U.S.</td>\n",
       "      <td>Google Consumer Surveys</td>\n",
       "      <td>24316.0</td>\n",
       "      <td>6.139129</td>\n",
       "      <td>42.64140</td>\n",
       "      <td>40.86509</td>\n",
       "      <td>2016</td>\n",
       "      <td>10</td>\n",
       "      <td>31</td>\n",
       "    </tr>\n",
       "    <tr>\n",
       "      <th>1</th>\n",
       "      <td>Clinton vs. Trump vs. Johnson</td>\n",
       "      <td>U.S.</td>\n",
       "      <td>ABC News/Washington Post</td>\n",
       "      <td>1128.0</td>\n",
       "      <td>4.197292</td>\n",
       "      <td>43.29659</td>\n",
       "      <td>44.72984</td>\n",
       "      <td>2016</td>\n",
       "      <td>10</td>\n",
       "      <td>30</td>\n",
       "    </tr>\n",
       "  </tbody>\n",
       "</table>\n",
       "</div>"
      ],
      "text/plain": [
       "                         matchup state                  pollster  samplesize  \\\n",
       "0  Clinton vs. Trump vs. Johnson  U.S.   Google Consumer Surveys     24316.0   \n",
       "1  Clinton vs. Trump vs. Johnson  U.S.  ABC News/Washington Post      1128.0   \n",
       "\n",
       "    poll_wt  adjpoll_clinton  adjpoll_trump  year  month  day  \n",
       "0  6.139129         42.64140       40.86509  2016     10   31  \n",
       "1  4.197292         43.29659       44.72984  2016     10   30  "
      ]
     },
     "execution_count": 16,
     "metadata": {},
     "output_type": "execute_result"
    }
   ],
   "source": [
    "df_presi.head(2)"
   ]
  },
  {
   "cell_type": "code",
   "execution_count": 17,
   "id": "8332db46",
   "metadata": {},
   "outputs": [
    {
     "data": {
      "text/plain": [
       "matchup             object\n",
       "state               object\n",
       "pollster            object\n",
       "samplesize         float64\n",
       "poll_wt            float64\n",
       "adjpoll_clinton    float64\n",
       "adjpoll_trump      float64\n",
       "year                 int64\n",
       "month                int64\n",
       "day                  int64\n",
       "dtype: object"
      ]
     },
     "execution_count": 17,
     "metadata": {},
     "output_type": "execute_result"
    }
   ],
   "source": [
    "df_presi.dtypes"
   ]
  },
  {
   "cell_type": "code",
   "execution_count": 18,
   "id": "9962095f",
   "metadata": {},
   "outputs": [
    {
     "data": {
      "text/html": [
       "<div>\n",
       "<style scoped>\n",
       "    .dataframe tbody tr th:only-of-type {\n",
       "        vertical-align: middle;\n",
       "    }\n",
       "\n",
       "    .dataframe tbody tr th {\n",
       "        vertical-align: top;\n",
       "    }\n",
       "\n",
       "    .dataframe thead th {\n",
       "        text-align: right;\n",
       "    }\n",
       "</style>\n",
       "<table border=\"1\" class=\"dataframe\">\n",
       "  <thead>\n",
       "    <tr style=\"text-align: right;\">\n",
       "      <th></th>\n",
       "      <th>matchup</th>\n",
       "      <th>state</th>\n",
       "      <th>pollster</th>\n",
       "      <th>samplesize</th>\n",
       "      <th>poll_wt</th>\n",
       "      <th>adjpoll_clinton</th>\n",
       "      <th>adjpoll_trump</th>\n",
       "      <th>year</th>\n",
       "      <th>month</th>\n",
       "      <th>day</th>\n",
       "    </tr>\n",
       "  </thead>\n",
       "  <tbody>\n",
       "    <tr>\n",
       "      <th>2765</th>\n",
       "      <td>Clinton vs. Trump vs. Johnson</td>\n",
       "      <td>U.S.</td>\n",
       "      <td>USC Dornsife/LA Times</td>\n",
       "      <td>2576.0</td>\n",
       "      <td>1.555000e-04</td>\n",
       "      <td>43.93398</td>\n",
       "      <td>43.46234</td>\n",
       "      <td>2016</td>\n",
       "      <td>8</td>\n",
       "      <td>30</td>\n",
       "    </tr>\n",
       "    <tr>\n",
       "      <th>7901</th>\n",
       "      <td>Clinton vs. Trump vs. Johnson</td>\n",
       "      <td>Texas</td>\n",
       "      <td>SurveyMonkey</td>\n",
       "      <td>1940.0</td>\n",
       "      <td>5.380260e-02</td>\n",
       "      <td>40.54567</td>\n",
       "      <td>45.56289</td>\n",
       "      <td>2016</td>\n",
       "      <td>10</td>\n",
       "      <td>30</td>\n",
       "    </tr>\n",
       "    <tr>\n",
       "      <th>6643</th>\n",
       "      <td>Clinton vs. Trump vs. Johnson</td>\n",
       "      <td>U.S.</td>\n",
       "      <td>Ipsos</td>\n",
       "      <td>1426.0</td>\n",
       "      <td>1.220000e-08</td>\n",
       "      <td>42.34401</td>\n",
       "      <td>37.04259</td>\n",
       "      <td>2016</td>\n",
       "      <td>2</td>\n",
       "      <td>3</td>\n",
       "    </tr>\n",
       "    <tr>\n",
       "      <th>5600</th>\n",
       "      <td>Clinton vs. Trump vs. Johnson</td>\n",
       "      <td>Nevada</td>\n",
       "      <td>Gravis Marketing</td>\n",
       "      <td>1637.0</td>\n",
       "      <td>1.440200e-03</td>\n",
       "      <td>43.14405</td>\n",
       "      <td>46.82602</td>\n",
       "      <td>2016</td>\n",
       "      <td>5</td>\n",
       "      <td>25</td>\n",
       "    </tr>\n",
       "    <tr>\n",
       "      <th>1120</th>\n",
       "      <td>Clinton vs. Trump vs. Johnson</td>\n",
       "      <td>Ohio</td>\n",
       "      <td>SurveyMonkey</td>\n",
       "      <td>1307.0</td>\n",
       "      <td>4.713100e-02</td>\n",
       "      <td>39.91053</td>\n",
       "      <td>45.35541</td>\n",
       "      <td>2016</td>\n",
       "      <td>10</td>\n",
       "      <td>16</td>\n",
       "    </tr>\n",
       "  </tbody>\n",
       "</table>\n",
       "</div>"
      ],
      "text/plain": [
       "                            matchup   state               pollster  \\\n",
       "2765  Clinton vs. Trump vs. Johnson    U.S.  USC Dornsife/LA Times   \n",
       "7901  Clinton vs. Trump vs. Johnson   Texas           SurveyMonkey   \n",
       "6643  Clinton vs. Trump vs. Johnson    U.S.                  Ipsos   \n",
       "5600  Clinton vs. Trump vs. Johnson  Nevada       Gravis Marketing   \n",
       "1120  Clinton vs. Trump vs. Johnson    Ohio           SurveyMonkey   \n",
       "\n",
       "      samplesize       poll_wt  adjpoll_clinton  adjpoll_trump  year  month  \\\n",
       "2765      2576.0  1.555000e-04         43.93398       43.46234  2016      8   \n",
       "7901      1940.0  5.380260e-02         40.54567       45.56289  2016     10   \n",
       "6643      1426.0  1.220000e-08         42.34401       37.04259  2016      2   \n",
       "5600      1637.0  1.440200e-03         43.14405       46.82602  2016      5   \n",
       "1120      1307.0  4.713100e-02         39.91053       45.35541  2016     10   \n",
       "\n",
       "      day  \n",
       "2765   30  \n",
       "7901   30  \n",
       "6643    3  \n",
       "5600   25  \n",
       "1120   16  "
      ]
     },
     "execution_count": 18,
     "metadata": {},
     "output_type": "execute_result"
    }
   ],
   "source": [
    "df_presi.sample(5)"
   ]
  },
  {
   "cell_type": "code",
   "execution_count": 19,
   "id": "4c2ecffb",
   "metadata": {},
   "outputs": [],
   "source": [
    "df_presi['handle'] = df_presi['matchup'].replace(['Clinton vs. Trump vs. Johnson'],'Clinton vs. Trump')"
   ]
  },
  {
   "cell_type": "code",
   "execution_count": 20,
   "id": "92bd6235",
   "metadata": {},
   "outputs": [
    {
     "data": {
      "text/html": [
       "<div>\n",
       "<style scoped>\n",
       "    .dataframe tbody tr th:only-of-type {\n",
       "        vertical-align: middle;\n",
       "    }\n",
       "\n",
       "    .dataframe tbody tr th {\n",
       "        vertical-align: top;\n",
       "    }\n",
       "\n",
       "    .dataframe thead th {\n",
       "        text-align: right;\n",
       "    }\n",
       "</style>\n",
       "<table border=\"1\" class=\"dataframe\">\n",
       "  <thead>\n",
       "    <tr style=\"text-align: right;\">\n",
       "      <th></th>\n",
       "      <th>matchup</th>\n",
       "      <th>state</th>\n",
       "      <th>pollster</th>\n",
       "      <th>samplesize</th>\n",
       "      <th>poll_wt</th>\n",
       "      <th>adjpoll_clinton</th>\n",
       "      <th>adjpoll_trump</th>\n",
       "      <th>year</th>\n",
       "      <th>month</th>\n",
       "      <th>day</th>\n",
       "      <th>handle</th>\n",
       "    </tr>\n",
       "  </thead>\n",
       "  <tbody>\n",
       "    <tr>\n",
       "      <th>0</th>\n",
       "      <td>Clinton vs. Trump vs. Johnson</td>\n",
       "      <td>U.S.</td>\n",
       "      <td>Google Consumer Surveys</td>\n",
       "      <td>24316.0</td>\n",
       "      <td>6.139129</td>\n",
       "      <td>42.64140</td>\n",
       "      <td>40.86509</td>\n",
       "      <td>2016</td>\n",
       "      <td>10</td>\n",
       "      <td>31</td>\n",
       "      <td>Clinton vs. Trump</td>\n",
       "    </tr>\n",
       "    <tr>\n",
       "      <th>1</th>\n",
       "      <td>Clinton vs. Trump vs. Johnson</td>\n",
       "      <td>U.S.</td>\n",
       "      <td>ABC News/Washington Post</td>\n",
       "      <td>1128.0</td>\n",
       "      <td>4.197292</td>\n",
       "      <td>43.29659</td>\n",
       "      <td>44.72984</td>\n",
       "      <td>2016</td>\n",
       "      <td>10</td>\n",
       "      <td>30</td>\n",
       "      <td>Clinton vs. Trump</td>\n",
       "    </tr>\n",
       "  </tbody>\n",
       "</table>\n",
       "</div>"
      ],
      "text/plain": [
       "                         matchup state                  pollster  samplesize  \\\n",
       "0  Clinton vs. Trump vs. Johnson  U.S.   Google Consumer Surveys     24316.0   \n",
       "1  Clinton vs. Trump vs. Johnson  U.S.  ABC News/Washington Post      1128.0   \n",
       "\n",
       "    poll_wt  adjpoll_clinton  adjpoll_trump  year  month  day  \\\n",
       "0  6.139129         42.64140       40.86509  2016     10   31   \n",
       "1  4.197292         43.29659       44.72984  2016     10   30   \n",
       "\n",
       "              handle  \n",
       "0  Clinton vs. Trump  \n",
       "1  Clinton vs. Trump  "
      ]
     },
     "execution_count": 20,
     "metadata": {},
     "output_type": "execute_result"
    }
   ],
   "source": [
    "df_presi.head(2)"
   ]
  },
  {
   "cell_type": "code",
   "execution_count": 21,
   "id": "959047ee",
   "metadata": {},
   "outputs": [],
   "source": [
    "df_presi.drop(['matchup'], axis = 1, inplace = True)"
   ]
  },
  {
   "cell_type": "code",
   "execution_count": 22,
   "id": "efe364a7",
   "metadata": {},
   "outputs": [
    {
     "data": {
      "text/html": [
       "<div>\n",
       "<style scoped>\n",
       "    .dataframe tbody tr th:only-of-type {\n",
       "        vertical-align: middle;\n",
       "    }\n",
       "\n",
       "    .dataframe tbody tr th {\n",
       "        vertical-align: top;\n",
       "    }\n",
       "\n",
       "    .dataframe thead th {\n",
       "        text-align: right;\n",
       "    }\n",
       "</style>\n",
       "<table border=\"1\" class=\"dataframe\">\n",
       "  <thead>\n",
       "    <tr style=\"text-align: right;\">\n",
       "      <th></th>\n",
       "      <th>state</th>\n",
       "      <th>pollster</th>\n",
       "      <th>samplesize</th>\n",
       "      <th>poll_wt</th>\n",
       "      <th>adjpoll_clinton</th>\n",
       "      <th>adjpoll_trump</th>\n",
       "      <th>year</th>\n",
       "      <th>month</th>\n",
       "      <th>day</th>\n",
       "      <th>handle</th>\n",
       "    </tr>\n",
       "  </thead>\n",
       "  <tbody>\n",
       "    <tr>\n",
       "      <th>0</th>\n",
       "      <td>U.S.</td>\n",
       "      <td>Google Consumer Surveys</td>\n",
       "      <td>24316.0</td>\n",
       "      <td>6.139129</td>\n",
       "      <td>42.64140</td>\n",
       "      <td>40.86509</td>\n",
       "      <td>2016</td>\n",
       "      <td>10</td>\n",
       "      <td>31</td>\n",
       "      <td>Clinton vs. Trump</td>\n",
       "    </tr>\n",
       "    <tr>\n",
       "      <th>1</th>\n",
       "      <td>U.S.</td>\n",
       "      <td>ABC News/Washington Post</td>\n",
       "      <td>1128.0</td>\n",
       "      <td>4.197292</td>\n",
       "      <td>43.29659</td>\n",
       "      <td>44.72984</td>\n",
       "      <td>2016</td>\n",
       "      <td>10</td>\n",
       "      <td>30</td>\n",
       "      <td>Clinton vs. Trump</td>\n",
       "    </tr>\n",
       "  </tbody>\n",
       "</table>\n",
       "</div>"
      ],
      "text/plain": [
       "  state                  pollster  samplesize   poll_wt  adjpoll_clinton  \\\n",
       "0  U.S.   Google Consumer Surveys     24316.0  6.139129         42.64140   \n",
       "1  U.S.  ABC News/Washington Post      1128.0  4.197292         43.29659   \n",
       "\n",
       "   adjpoll_trump  year  month  day             handle  \n",
       "0       40.86509  2016     10   31  Clinton vs. Trump  \n",
       "1       44.72984  2016     10   30  Clinton vs. Trump  "
      ]
     },
     "execution_count": 22,
     "metadata": {},
     "output_type": "execute_result"
    }
   ],
   "source": [
    "df_presi.head(2)"
   ]
  },
  {
   "cell_type": "code",
   "execution_count": 23,
   "id": "9305a6b8",
   "metadata": {},
   "outputs": [],
   "source": [
    "#let´s create unique_id\n",
    "\n",
    "df_presi['fecha'] = df_presi['year'].astype(str) + df_presi['month'].astype(str) + df_presi['day'].astype(str)\n",
    "df_presi['unique_id'] = df_presi['fecha'] + '_' + df_presi['handle']"
   ]
  },
  {
   "cell_type": "code",
   "execution_count": 24,
   "id": "a314f2bc",
   "metadata": {},
   "outputs": [
    {
     "data": {
      "text/html": [
       "<div>\n",
       "<style scoped>\n",
       "    .dataframe tbody tr th:only-of-type {\n",
       "        vertical-align: middle;\n",
       "    }\n",
       "\n",
       "    .dataframe tbody tr th {\n",
       "        vertical-align: top;\n",
       "    }\n",
       "\n",
       "    .dataframe thead th {\n",
       "        text-align: right;\n",
       "    }\n",
       "</style>\n",
       "<table border=\"1\" class=\"dataframe\">\n",
       "  <thead>\n",
       "    <tr style=\"text-align: right;\">\n",
       "      <th></th>\n",
       "      <th>state</th>\n",
       "      <th>pollster</th>\n",
       "      <th>samplesize</th>\n",
       "      <th>poll_wt</th>\n",
       "      <th>adjpoll_clinton</th>\n",
       "      <th>adjpoll_trump</th>\n",
       "      <th>year</th>\n",
       "      <th>month</th>\n",
       "      <th>day</th>\n",
       "      <th>handle</th>\n",
       "      <th>fecha</th>\n",
       "      <th>unique_id</th>\n",
       "    </tr>\n",
       "  </thead>\n",
       "  <tbody>\n",
       "    <tr>\n",
       "      <th>0</th>\n",
       "      <td>U.S.</td>\n",
       "      <td>Google Consumer Surveys</td>\n",
       "      <td>24316.0</td>\n",
       "      <td>6.139129</td>\n",
       "      <td>42.64140</td>\n",
       "      <td>40.86509</td>\n",
       "      <td>2016</td>\n",
       "      <td>10</td>\n",
       "      <td>31</td>\n",
       "      <td>Clinton vs. Trump</td>\n",
       "      <td>20161031</td>\n",
       "      <td>20161031_Clinton vs. Trump</td>\n",
       "    </tr>\n",
       "    <tr>\n",
       "      <th>1</th>\n",
       "      <td>U.S.</td>\n",
       "      <td>ABC News/Washington Post</td>\n",
       "      <td>1128.0</td>\n",
       "      <td>4.197292</td>\n",
       "      <td>43.29659</td>\n",
       "      <td>44.72984</td>\n",
       "      <td>2016</td>\n",
       "      <td>10</td>\n",
       "      <td>30</td>\n",
       "      <td>Clinton vs. Trump</td>\n",
       "      <td>20161030</td>\n",
       "      <td>20161030_Clinton vs. Trump</td>\n",
       "    </tr>\n",
       "    <tr>\n",
       "      <th>2</th>\n",
       "      <td>Virginia</td>\n",
       "      <td>ABC News/Washington Post</td>\n",
       "      <td>1024.0</td>\n",
       "      <td>3.876856</td>\n",
       "      <td>46.29779</td>\n",
       "      <td>40.72604</td>\n",
       "      <td>2016</td>\n",
       "      <td>10</td>\n",
       "      <td>30</td>\n",
       "      <td>Clinton vs. Trump</td>\n",
       "      <td>20161030</td>\n",
       "      <td>20161030_Clinton vs. Trump</td>\n",
       "    </tr>\n",
       "    <tr>\n",
       "      <th>3</th>\n",
       "      <td>Florida</td>\n",
       "      <td>SurveyUSA</td>\n",
       "      <td>1251.0</td>\n",
       "      <td>3.403096</td>\n",
       "      <td>46.35931</td>\n",
       "      <td>45.30585</td>\n",
       "      <td>2016</td>\n",
       "      <td>10</td>\n",
       "      <td>24</td>\n",
       "      <td>Clinton vs. Trump</td>\n",
       "      <td>20161024</td>\n",
       "      <td>20161024_Clinton vs. Trump</td>\n",
       "    </tr>\n",
       "    <tr>\n",
       "      <th>4</th>\n",
       "      <td>U.S.</td>\n",
       "      <td>Pew Research Center</td>\n",
       "      <td>2120.0</td>\n",
       "      <td>3.394646</td>\n",
       "      <td>45.32744</td>\n",
       "      <td>42.20888</td>\n",
       "      <td>2016</td>\n",
       "      <td>10</td>\n",
       "      <td>25</td>\n",
       "      <td>Clinton vs. Trump</td>\n",
       "      <td>20161025</td>\n",
       "      <td>20161025_Clinton vs. Trump</td>\n",
       "    </tr>\n",
       "    <tr>\n",
       "      <th>5</th>\n",
       "      <td>U.S.</td>\n",
       "      <td>Fox News/Anderson Robbins Research/Shaw &amp; Comp...</td>\n",
       "      <td>1221.0</td>\n",
       "      <td>3.346535</td>\n",
       "      <td>44.65080</td>\n",
       "      <td>42.26663</td>\n",
       "      <td>2016</td>\n",
       "      <td>10</td>\n",
       "      <td>25</td>\n",
       "      <td>Clinton vs. Trump</td>\n",
       "      <td>20161025</td>\n",
       "      <td>20161025_Clinton vs. Trump</td>\n",
       "    </tr>\n",
       "  </tbody>\n",
       "</table>\n",
       "</div>"
      ],
      "text/plain": [
       "      state                                           pollster  samplesize  \\\n",
       "0      U.S.                            Google Consumer Surveys     24316.0   \n",
       "1      U.S.                           ABC News/Washington Post      1128.0   \n",
       "2  Virginia                           ABC News/Washington Post      1024.0   \n",
       "3   Florida                                          SurveyUSA      1251.0   \n",
       "4      U.S.                                Pew Research Center      2120.0   \n",
       "5      U.S.  Fox News/Anderson Robbins Research/Shaw & Comp...      1221.0   \n",
       "\n",
       "    poll_wt  adjpoll_clinton  adjpoll_trump  year  month  day  \\\n",
       "0  6.139129         42.64140       40.86509  2016     10   31   \n",
       "1  4.197292         43.29659       44.72984  2016     10   30   \n",
       "2  3.876856         46.29779       40.72604  2016     10   30   \n",
       "3  3.403096         46.35931       45.30585  2016     10   24   \n",
       "4  3.394646         45.32744       42.20888  2016     10   25   \n",
       "5  3.346535         44.65080       42.26663  2016     10   25   \n",
       "\n",
       "              handle     fecha                   unique_id  \n",
       "0  Clinton vs. Trump  20161031  20161031_Clinton vs. Trump  \n",
       "1  Clinton vs. Trump  20161030  20161030_Clinton vs. Trump  \n",
       "2  Clinton vs. Trump  20161030  20161030_Clinton vs. Trump  \n",
       "3  Clinton vs. Trump  20161024  20161024_Clinton vs. Trump  \n",
       "4  Clinton vs. Trump  20161025  20161025_Clinton vs. Trump  \n",
       "5  Clinton vs. Trump  20161025  20161025_Clinton vs. Trump  "
      ]
     },
     "execution_count": 24,
     "metadata": {},
     "output_type": "execute_result"
    }
   ],
   "source": [
    "df_presi.head(6)"
   ]
  },
  {
   "cell_type": "code",
   "execution_count": 25,
   "id": "5d25a451",
   "metadata": {},
   "outputs": [
    {
     "data": {
      "text/plain": [
       "state               object\n",
       "pollster            object\n",
       "samplesize         float64\n",
       "poll_wt            float64\n",
       "adjpoll_clinton    float64\n",
       "adjpoll_trump      float64\n",
       "year                 int64\n",
       "month                int64\n",
       "day                  int64\n",
       "handle              object\n",
       "fecha               object\n",
       "unique_id           object\n",
       "dtype: object"
      ]
     },
     "execution_count": 25,
     "metadata": {},
     "output_type": "execute_result"
    }
   ],
   "source": [
    "df_presi.dtypes"
   ]
  },
  {
   "cell_type": "code",
   "execution_count": 26,
   "id": "e9040259",
   "metadata": {},
   "outputs": [],
   "source": [
    "df_presi['index_1'] = df_presi['samplesize'] * df_presi['poll_wt']"
   ]
  },
  {
   "cell_type": "code",
   "execution_count": 27,
   "id": "ef27d5bf",
   "metadata": {},
   "outputs": [
    {
     "data": {
      "text/html": [
       "<div>\n",
       "<style scoped>\n",
       "    .dataframe tbody tr th:only-of-type {\n",
       "        vertical-align: middle;\n",
       "    }\n",
       "\n",
       "    .dataframe tbody tr th {\n",
       "        vertical-align: top;\n",
       "    }\n",
       "\n",
       "    .dataframe thead th {\n",
       "        text-align: right;\n",
       "    }\n",
       "</style>\n",
       "<table border=\"1\" class=\"dataframe\">\n",
       "  <thead>\n",
       "    <tr style=\"text-align: right;\">\n",
       "      <th></th>\n",
       "      <th>state</th>\n",
       "      <th>pollster</th>\n",
       "      <th>samplesize</th>\n",
       "      <th>poll_wt</th>\n",
       "      <th>adjpoll_clinton</th>\n",
       "      <th>adjpoll_trump</th>\n",
       "      <th>year</th>\n",
       "      <th>month</th>\n",
       "      <th>day</th>\n",
       "      <th>handle</th>\n",
       "      <th>fecha</th>\n",
       "      <th>unique_id</th>\n",
       "      <th>index_1</th>\n",
       "    </tr>\n",
       "  </thead>\n",
       "  <tbody>\n",
       "    <tr>\n",
       "      <th>0</th>\n",
       "      <td>U.S.</td>\n",
       "      <td>Google Consumer Surveys</td>\n",
       "      <td>24316.0</td>\n",
       "      <td>6.139129</td>\n",
       "      <td>42.64140</td>\n",
       "      <td>40.86509</td>\n",
       "      <td>2016</td>\n",
       "      <td>10</td>\n",
       "      <td>31</td>\n",
       "      <td>Clinton vs. Trump</td>\n",
       "      <td>20161031</td>\n",
       "      <td>20161031_Clinton vs. Trump</td>\n",
       "      <td>149279.060764</td>\n",
       "    </tr>\n",
       "    <tr>\n",
       "      <th>1</th>\n",
       "      <td>U.S.</td>\n",
       "      <td>ABC News/Washington Post</td>\n",
       "      <td>1128.0</td>\n",
       "      <td>4.197292</td>\n",
       "      <td>43.29659</td>\n",
       "      <td>44.72984</td>\n",
       "      <td>2016</td>\n",
       "      <td>10</td>\n",
       "      <td>30</td>\n",
       "      <td>Clinton vs. Trump</td>\n",
       "      <td>20161030</td>\n",
       "      <td>20161030_Clinton vs. Trump</td>\n",
       "      <td>4734.545376</td>\n",
       "    </tr>\n",
       "  </tbody>\n",
       "</table>\n",
       "</div>"
      ],
      "text/plain": [
       "  state                  pollster  samplesize   poll_wt  adjpoll_clinton  \\\n",
       "0  U.S.   Google Consumer Surveys     24316.0  6.139129         42.64140   \n",
       "1  U.S.  ABC News/Washington Post      1128.0  4.197292         43.29659   \n",
       "\n",
       "   adjpoll_trump  year  month  day             handle     fecha  \\\n",
       "0       40.86509  2016     10   31  Clinton vs. Trump  20161031   \n",
       "1       44.72984  2016     10   30  Clinton vs. Trump  20161030   \n",
       "\n",
       "                    unique_id        index_1  \n",
       "0  20161031_Clinton vs. Trump  149279.060764  \n",
       "1  20161030_Clinton vs. Trump    4734.545376  "
      ]
     },
     "execution_count": 27,
     "metadata": {},
     "output_type": "execute_result"
    }
   ],
   "source": [
    "df_presi.head(2)"
   ]
  },
  {
   "cell_type": "code",
   "execution_count": 28,
   "id": "b8afb88c",
   "metadata": {},
   "outputs": [],
   "source": [
    "df_test = pd.DataFrame(df_presi.groupby('unique_id')['index_1'].sum())"
   ]
  },
  {
   "cell_type": "code",
   "execution_count": 29,
   "id": "a24a089f",
   "metadata": {},
   "outputs": [],
   "source": [
    "df_test.reset_index(inplace = True)"
   ]
  },
  {
   "cell_type": "code",
   "execution_count": 30,
   "id": "fc355aff",
   "metadata": {},
   "outputs": [],
   "source": [
    "df_adjc = pd.DataFrame(df_presi.groupby('unique_id')['adjpoll_clinton'].mean())\n",
    "df_adjt = pd.DataFrame(df_presi.groupby('unique_id')['adjpoll_trump'].mean())"
   ]
  },
  {
   "cell_type": "code",
   "execution_count": 31,
   "id": "0cac5cd4",
   "metadata": {},
   "outputs": [],
   "source": [
    "df_adjc.reset_index(inplace = True)\n",
    "df_adjt.reset_index(inplace = True)"
   ]
  },
  {
   "cell_type": "code",
   "execution_count": 32,
   "id": "c867da13",
   "metadata": {},
   "outputs": [
    {
     "data": {
      "text/html": [
       "<div>\n",
       "<style scoped>\n",
       "    .dataframe tbody tr th:only-of-type {\n",
       "        vertical-align: middle;\n",
       "    }\n",
       "\n",
       "    .dataframe tbody tr th {\n",
       "        vertical-align: top;\n",
       "    }\n",
       "\n",
       "    .dataframe thead th {\n",
       "        text-align: right;\n",
       "    }\n",
       "</style>\n",
       "<table border=\"1\" class=\"dataframe\">\n",
       "  <thead>\n",
       "    <tr style=\"text-align: right;\">\n",
       "      <th></th>\n",
       "      <th>unique_id</th>\n",
       "      <th>adjpoll_clinton</th>\n",
       "    </tr>\n",
       "  </thead>\n",
       "  <tbody>\n",
       "    <tr>\n",
       "      <th>0</th>\n",
       "      <td>20151113_Clinton vs. Trump</td>\n",
       "      <td>49.390183</td>\n",
       "    </tr>\n",
       "    <tr>\n",
       "      <th>1</th>\n",
       "      <td>20151115_Clinton vs. Trump</td>\n",
       "      <td>41.707332</td>\n",
       "    </tr>\n",
       "    <tr>\n",
       "      <th>2</th>\n",
       "      <td>20151116_Clinton vs. Trump</td>\n",
       "      <td>42.949914</td>\n",
       "    </tr>\n",
       "    <tr>\n",
       "      <th>3</th>\n",
       "      <td>20151117_Clinton vs. Trump</td>\n",
       "      <td>45.141442</td>\n",
       "    </tr>\n",
       "    <tr>\n",
       "      <th>4</th>\n",
       "      <td>20151119_Clinton vs. Trump</td>\n",
       "      <td>41.589907</td>\n",
       "    </tr>\n",
       "  </tbody>\n",
       "</table>\n",
       "</div>"
      ],
      "text/plain": [
       "                    unique_id  adjpoll_clinton\n",
       "0  20151113_Clinton vs. Trump        49.390183\n",
       "1  20151115_Clinton vs. Trump        41.707332\n",
       "2  20151116_Clinton vs. Trump        42.949914\n",
       "3  20151117_Clinton vs. Trump        45.141442\n",
       "4  20151119_Clinton vs. Trump        41.589907"
      ]
     },
     "execution_count": 32,
     "metadata": {},
     "output_type": "execute_result"
    }
   ],
   "source": [
    "df_adjc.head(5)"
   ]
  },
  {
   "cell_type": "code",
   "execution_count": 33,
   "id": "79242ca9",
   "metadata": {},
   "outputs": [
    {
     "data": {
      "text/plain": [
       "(338, 2)"
      ]
     },
     "execution_count": 33,
     "metadata": {},
     "output_type": "execute_result"
    }
   ],
   "source": [
    "df_adjc.shape"
   ]
  },
  {
   "cell_type": "code",
   "execution_count": 34,
   "id": "541919cf",
   "metadata": {},
   "outputs": [
    {
     "data": {
      "text/plain": [
       "(338, 2)"
      ]
     },
     "execution_count": 34,
     "metadata": {},
     "output_type": "execute_result"
    }
   ],
   "source": [
    "df_adjt.shape"
   ]
  },
  {
   "cell_type": "code",
   "execution_count": 35,
   "id": "63faf952",
   "metadata": {},
   "outputs": [
    {
     "data": {
      "text/html": [
       "<div>\n",
       "<style scoped>\n",
       "    .dataframe tbody tr th:only-of-type {\n",
       "        vertical-align: middle;\n",
       "    }\n",
       "\n",
       "    .dataframe tbody tr th {\n",
       "        vertical-align: top;\n",
       "    }\n",
       "\n",
       "    .dataframe thead th {\n",
       "        text-align: right;\n",
       "    }\n",
       "</style>\n",
       "<table border=\"1\" class=\"dataframe\">\n",
       "  <thead>\n",
       "    <tr style=\"text-align: right;\">\n",
       "      <th></th>\n",
       "      <th>unique_id</th>\n",
       "      <th>index_1</th>\n",
       "    </tr>\n",
       "  </thead>\n",
       "  <tbody>\n",
       "    <tr>\n",
       "      <th>56</th>\n",
       "      <td>20161031_Clinton vs. Trump</td>\n",
       "      <td>836269.405366</td>\n",
       "    </tr>\n",
       "    <tr>\n",
       "      <th>55</th>\n",
       "      <td>20161030_Clinton vs. Trump</td>\n",
       "      <td>539528.071579</td>\n",
       "    </tr>\n",
       "    <tr>\n",
       "      <th>50</th>\n",
       "      <td>20161026_Clinton vs. Trump</td>\n",
       "      <td>157505.713698</td>\n",
       "    </tr>\n",
       "    <tr>\n",
       "      <th>48</th>\n",
       "      <td>20161024_Clinton vs. Trump</td>\n",
       "      <td>130329.739849</td>\n",
       "    </tr>\n",
       "    <tr>\n",
       "      <th>49</th>\n",
       "      <td>20161025_Clinton vs. Trump</td>\n",
       "      <td>94949.477702</td>\n",
       "    </tr>\n",
       "    <tr>\n",
       "      <th>...</th>\n",
       "      <td>...</td>\n",
       "      <td>...</td>\n",
       "    </tr>\n",
       "    <tr>\n",
       "      <th>85</th>\n",
       "      <td>201612_Clinton vs. Trump</td>\n",
       "      <td>0.000008</td>\n",
       "    </tr>\n",
       "    <tr>\n",
       "      <th>12</th>\n",
       "      <td>20151218_Clinton vs. Trump</td>\n",
       "      <td>0.000006</td>\n",
       "    </tr>\n",
       "    <tr>\n",
       "      <th>74</th>\n",
       "      <td>201611_Clinton vs. Trump</td>\n",
       "      <td>0.000002</td>\n",
       "    </tr>\n",
       "    <tr>\n",
       "      <th>9</th>\n",
       "      <td>20151214_Clinton vs. Trump</td>\n",
       "      <td>0.000000</td>\n",
       "    </tr>\n",
       "    <tr>\n",
       "      <th>1</th>\n",
       "      <td>20151115_Clinton vs. Trump</td>\n",
       "      <td>0.000000</td>\n",
       "    </tr>\n",
       "  </tbody>\n",
       "</table>\n",
       "<p>338 rows × 2 columns</p>\n",
       "</div>"
      ],
      "text/plain": [
       "                     unique_id        index_1\n",
       "56  20161031_Clinton vs. Trump  836269.405366\n",
       "55  20161030_Clinton vs. Trump  539528.071579\n",
       "50  20161026_Clinton vs. Trump  157505.713698\n",
       "48  20161024_Clinton vs. Trump  130329.739849\n",
       "49  20161025_Clinton vs. Trump   94949.477702\n",
       "..                         ...            ...\n",
       "85    201612_Clinton vs. Trump       0.000008\n",
       "12  20151218_Clinton vs. Trump       0.000006\n",
       "74    201611_Clinton vs. Trump       0.000002\n",
       "9   20151214_Clinton vs. Trump       0.000000\n",
       "1   20151115_Clinton vs. Trump       0.000000\n",
       "\n",
       "[338 rows x 2 columns]"
      ]
     },
     "execution_count": 35,
     "metadata": {},
     "output_type": "execute_result"
    }
   ],
   "source": [
    "df_test.sort_values('index_1' , ascending = False)"
   ]
  },
  {
   "cell_type": "code",
   "execution_count": 36,
   "id": "e1e5175b",
   "metadata": {},
   "outputs": [
    {
     "data": {
      "text/html": [
       "<div>\n",
       "<style scoped>\n",
       "    .dataframe tbody tr th:only-of-type {\n",
       "        vertical-align: middle;\n",
       "    }\n",
       "\n",
       "    .dataframe tbody tr th {\n",
       "        vertical-align: top;\n",
       "    }\n",
       "\n",
       "    .dataframe thead th {\n",
       "        text-align: right;\n",
       "    }\n",
       "</style>\n",
       "<table border=\"1\" class=\"dataframe\">\n",
       "  <thead>\n",
       "    <tr style=\"text-align: right;\">\n",
       "      <th></th>\n",
       "      <th>unique_id</th>\n",
       "      <th>index_1</th>\n",
       "    </tr>\n",
       "  </thead>\n",
       "  <tbody>\n",
       "    <tr>\n",
       "      <th>0</th>\n",
       "      <td>20151113_Clinton vs. Trump</td>\n",
       "      <td>0.000196</td>\n",
       "    </tr>\n",
       "    <tr>\n",
       "      <th>1</th>\n",
       "      <td>20151115_Clinton vs. Trump</td>\n",
       "      <td>0.000000</td>\n",
       "    </tr>\n",
       "    <tr>\n",
       "      <th>2</th>\n",
       "      <td>20151116_Clinton vs. Trump</td>\n",
       "      <td>0.032930</td>\n",
       "    </tr>\n",
       "    <tr>\n",
       "      <th>3</th>\n",
       "      <td>20151117_Clinton vs. Trump</td>\n",
       "      <td>0.024735</td>\n",
       "    </tr>\n",
       "    <tr>\n",
       "      <th>4</th>\n",
       "      <td>20151119_Clinton vs. Trump</td>\n",
       "      <td>0.000847</td>\n",
       "    </tr>\n",
       "  </tbody>\n",
       "</table>\n",
       "</div>"
      ],
      "text/plain": [
       "                    unique_id   index_1\n",
       "0  20151113_Clinton vs. Trump  0.000196\n",
       "1  20151115_Clinton vs. Trump  0.000000\n",
       "2  20151116_Clinton vs. Trump  0.032930\n",
       "3  20151117_Clinton vs. Trump  0.024735\n",
       "4  20151119_Clinton vs. Trump  0.000847"
      ]
     },
     "execution_count": 36,
     "metadata": {},
     "output_type": "execute_result"
    }
   ],
   "source": [
    "df_test.head(5)"
   ]
  },
  {
   "cell_type": "code",
   "execution_count": 37,
   "id": "45fbe5eb",
   "metadata": {},
   "outputs": [],
   "source": [
    "df_polls2 = pd.merge(df_adjc,df_adjt, on = 'unique_id')"
   ]
  },
  {
   "cell_type": "code",
   "execution_count": 38,
   "id": "7e18b7c6",
   "metadata": {},
   "outputs": [],
   "source": [
    "df_elec = pd.merge(df_polls2, df_test, on = 'unique_id')"
   ]
  },
  {
   "cell_type": "code",
   "execution_count": 39,
   "id": "35e38bae",
   "metadata": {
    "scrolled": true
   },
   "outputs": [
    {
     "data": {
      "text/html": [
       "<div>\n",
       "<style scoped>\n",
       "    .dataframe tbody tr th:only-of-type {\n",
       "        vertical-align: middle;\n",
       "    }\n",
       "\n",
       "    .dataframe tbody tr th {\n",
       "        vertical-align: top;\n",
       "    }\n",
       "\n",
       "    .dataframe thead th {\n",
       "        text-align: right;\n",
       "    }\n",
       "</style>\n",
       "<table border=\"1\" class=\"dataframe\">\n",
       "  <thead>\n",
       "    <tr style=\"text-align: right;\">\n",
       "      <th></th>\n",
       "      <th>unique_id</th>\n",
       "      <th>adjpoll_clinton</th>\n",
       "      <th>adjpoll_trump</th>\n",
       "      <th>index_1</th>\n",
       "    </tr>\n",
       "  </thead>\n",
       "  <tbody>\n",
       "    <tr>\n",
       "      <th>0</th>\n",
       "      <td>20151113_Clinton vs. Trump</td>\n",
       "      <td>49.390183</td>\n",
       "      <td>36.714560</td>\n",
       "      <td>0.000196</td>\n",
       "    </tr>\n",
       "    <tr>\n",
       "      <th>1</th>\n",
       "      <td>20151115_Clinton vs. Trump</td>\n",
       "      <td>41.707332</td>\n",
       "      <td>41.849163</td>\n",
       "      <td>0.000000</td>\n",
       "    </tr>\n",
       "    <tr>\n",
       "      <th>2</th>\n",
       "      <td>20151116_Clinton vs. Trump</td>\n",
       "      <td>42.949914</td>\n",
       "      <td>43.854084</td>\n",
       "      <td>0.032930</td>\n",
       "    </tr>\n",
       "  </tbody>\n",
       "</table>\n",
       "</div>"
      ],
      "text/plain": [
       "                    unique_id  adjpoll_clinton  adjpoll_trump   index_1\n",
       "0  20151113_Clinton vs. Trump        49.390183      36.714560  0.000196\n",
       "1  20151115_Clinton vs. Trump        41.707332      41.849163  0.000000\n",
       "2  20151116_Clinton vs. Trump        42.949914      43.854084  0.032930"
      ]
     },
     "execution_count": 39,
     "metadata": {},
     "output_type": "execute_result"
    }
   ],
   "source": [
    "df_elec.head(3)"
   ]
  },
  {
   "cell_type": "code",
   "execution_count": 40,
   "id": "0c97ba3a",
   "metadata": {},
   "outputs": [
    {
     "data": {
      "text/plain": [
       "(338, 4)"
      ]
     },
     "execution_count": 40,
     "metadata": {},
     "output_type": "execute_result"
    }
   ],
   "source": [
    "df_elec.shape"
   ]
  },
  {
   "cell_type": "code",
   "execution_count": 41,
   "id": "f48139e7",
   "metadata": {},
   "outputs": [],
   "source": [
    "#que bellezaaaaaaaaaaaaaa!!! ahora a trabajar en esta\n",
    "\n",
    "x = '20151113_Clinton vs. Trump'\n",
    "x.split('_')[1]\n",
    "\n",
    "def limpiar_fecha(x): \n",
    "    fecha_string1 = x.split(\"_\")[0]\n",
    "    fecha_date = datetime.datetime.strptime(fecha_string1, '%Y%m%d')\n",
    "    return fecha_date\n",
    "\n",
    "def limpiar_handle(x): \n",
    "    handle_sr = x.split(\"_\")[1]\n",
    "    return handle_sr"
   ]
  },
  {
   "cell_type": "code",
   "execution_count": 42,
   "id": "0ee80dae",
   "metadata": {},
   "outputs": [],
   "source": [
    "df_elec[\"handle\"] = df_elec[\"unique_id\"].apply(limpiar_handle)\n",
    "df_elec[\"fecha\"] = df_elec[\"unique_id\"].apply(limpiar_fecha)"
   ]
  },
  {
   "cell_type": "code",
   "execution_count": 43,
   "id": "491213de",
   "metadata": {},
   "outputs": [
    {
     "data": {
      "text/html": [
       "<div>\n",
       "<style scoped>\n",
       "    .dataframe tbody tr th:only-of-type {\n",
       "        vertical-align: middle;\n",
       "    }\n",
       "\n",
       "    .dataframe tbody tr th {\n",
       "        vertical-align: top;\n",
       "    }\n",
       "\n",
       "    .dataframe thead th {\n",
       "        text-align: right;\n",
       "    }\n",
       "</style>\n",
       "<table border=\"1\" class=\"dataframe\">\n",
       "  <thead>\n",
       "    <tr style=\"text-align: right;\">\n",
       "      <th></th>\n",
       "      <th>unique_id</th>\n",
       "      <th>adjpoll_clinton</th>\n",
       "      <th>adjpoll_trump</th>\n",
       "      <th>index_1</th>\n",
       "      <th>handle</th>\n",
       "      <th>fecha</th>\n",
       "    </tr>\n",
       "  </thead>\n",
       "  <tbody>\n",
       "    <tr>\n",
       "      <th>0</th>\n",
       "      <td>20151113_Clinton vs. Trump</td>\n",
       "      <td>49.390183</td>\n",
       "      <td>36.714560</td>\n",
       "      <td>0.000196</td>\n",
       "      <td>Clinton vs. Trump</td>\n",
       "      <td>2015-11-13</td>\n",
       "    </tr>\n",
       "    <tr>\n",
       "      <th>1</th>\n",
       "      <td>20151115_Clinton vs. Trump</td>\n",
       "      <td>41.707332</td>\n",
       "      <td>41.849163</td>\n",
       "      <td>0.000000</td>\n",
       "      <td>Clinton vs. Trump</td>\n",
       "      <td>2015-11-15</td>\n",
       "    </tr>\n",
       "    <tr>\n",
       "      <th>2</th>\n",
       "      <td>20151116_Clinton vs. Trump</td>\n",
       "      <td>42.949914</td>\n",
       "      <td>43.854084</td>\n",
       "      <td>0.032930</td>\n",
       "      <td>Clinton vs. Trump</td>\n",
       "      <td>2015-11-16</td>\n",
       "    </tr>\n",
       "    <tr>\n",
       "      <th>3</th>\n",
       "      <td>20151117_Clinton vs. Trump</td>\n",
       "      <td>45.141442</td>\n",
       "      <td>40.746182</td>\n",
       "      <td>0.024735</td>\n",
       "      <td>Clinton vs. Trump</td>\n",
       "      <td>2015-11-17</td>\n",
       "    </tr>\n",
       "    <tr>\n",
       "      <th>4</th>\n",
       "      <td>20151119_Clinton vs. Trump</td>\n",
       "      <td>41.589907</td>\n",
       "      <td>45.997803</td>\n",
       "      <td>0.000847</td>\n",
       "      <td>Clinton vs. Trump</td>\n",
       "      <td>2015-11-19</td>\n",
       "    </tr>\n",
       "  </tbody>\n",
       "</table>\n",
       "</div>"
      ],
      "text/plain": [
       "                    unique_id  adjpoll_clinton  adjpoll_trump   index_1  \\\n",
       "0  20151113_Clinton vs. Trump        49.390183      36.714560  0.000196   \n",
       "1  20151115_Clinton vs. Trump        41.707332      41.849163  0.000000   \n",
       "2  20151116_Clinton vs. Trump        42.949914      43.854084  0.032930   \n",
       "3  20151117_Clinton vs. Trump        45.141442      40.746182  0.024735   \n",
       "4  20151119_Clinton vs. Trump        41.589907      45.997803  0.000847   \n",
       "\n",
       "              handle      fecha  \n",
       "0  Clinton vs. Trump 2015-11-13  \n",
       "1  Clinton vs. Trump 2015-11-15  \n",
       "2  Clinton vs. Trump 2015-11-16  \n",
       "3  Clinton vs. Trump 2015-11-17  \n",
       "4  Clinton vs. Trump 2015-11-19  "
      ]
     },
     "execution_count": 43,
     "metadata": {},
     "output_type": "execute_result"
    }
   ],
   "source": [
    "df_elec.head(5)"
   ]
  },
  {
   "cell_type": "code",
   "execution_count": 44,
   "id": "d60d4e7f",
   "metadata": {},
   "outputs": [],
   "source": [
    "df_elec['index_weighted'] = (df_elec['index_1'] / df_elec['index_1'].sum()) * 100"
   ]
  },
  {
   "cell_type": "code",
   "execution_count": 45,
   "id": "8818f0a5",
   "metadata": {},
   "outputs": [
    {
     "data": {
      "text/html": [
       "<div>\n",
       "<style scoped>\n",
       "    .dataframe tbody tr th:only-of-type {\n",
       "        vertical-align: middle;\n",
       "    }\n",
       "\n",
       "    .dataframe tbody tr th {\n",
       "        vertical-align: top;\n",
       "    }\n",
       "\n",
       "    .dataframe thead th {\n",
       "        text-align: right;\n",
       "    }\n",
       "</style>\n",
       "<table border=\"1\" class=\"dataframe\">\n",
       "  <thead>\n",
       "    <tr style=\"text-align: right;\">\n",
       "      <th></th>\n",
       "      <th>unique_id</th>\n",
       "      <th>adjpoll_clinton</th>\n",
       "      <th>adjpoll_trump</th>\n",
       "      <th>index_1</th>\n",
       "      <th>handle</th>\n",
       "      <th>fecha</th>\n",
       "      <th>index_weighted</th>\n",
       "    </tr>\n",
       "  </thead>\n",
       "  <tbody>\n",
       "    <tr>\n",
       "      <th>0</th>\n",
       "      <td>20151113_Clinton vs. Trump</td>\n",
       "      <td>49.390183</td>\n",
       "      <td>36.714560</td>\n",
       "      <td>0.000196</td>\n",
       "      <td>Clinton vs. Trump</td>\n",
       "      <td>2015-11-13</td>\n",
       "      <td>7.108429e-09</td>\n",
       "    </tr>\n",
       "    <tr>\n",
       "      <th>1</th>\n",
       "      <td>20151115_Clinton vs. Trump</td>\n",
       "      <td>41.707332</td>\n",
       "      <td>41.849163</td>\n",
       "      <td>0.000000</td>\n",
       "      <td>Clinton vs. Trump</td>\n",
       "      <td>2015-11-15</td>\n",
       "      <td>0.000000e+00</td>\n",
       "    </tr>\n",
       "  </tbody>\n",
       "</table>\n",
       "</div>"
      ],
      "text/plain": [
       "                    unique_id  adjpoll_clinton  adjpoll_trump   index_1  \\\n",
       "0  20151113_Clinton vs. Trump        49.390183      36.714560  0.000196   \n",
       "1  20151115_Clinton vs. Trump        41.707332      41.849163  0.000000   \n",
       "\n",
       "              handle      fecha  index_weighted  \n",
       "0  Clinton vs. Trump 2015-11-13    7.108429e-09  \n",
       "1  Clinton vs. Trump 2015-11-15    0.000000e+00  "
      ]
     },
     "execution_count": 45,
     "metadata": {},
     "output_type": "execute_result"
    }
   ],
   "source": [
    "df_elec.head(2)"
   ]
  },
  {
   "cell_type": "code",
   "execution_count": 46,
   "id": "ceec7b37",
   "metadata": {},
   "outputs": [
    {
     "data": {
      "text/plain": [
       "2752190.5274014226"
      ]
     },
     "execution_count": 46,
     "metadata": {},
     "output_type": "execute_result"
    }
   ],
   "source": [
    "df_elec['index_1'].sum()"
   ]
  },
  {
   "cell_type": "code",
   "execution_count": 47,
   "id": "dba9ba80",
   "metadata": {
    "scrolled": true
   },
   "outputs": [
    {
     "data": {
      "text/html": [
       "<div>\n",
       "<style scoped>\n",
       "    .dataframe tbody tr th:only-of-type {\n",
       "        vertical-align: middle;\n",
       "    }\n",
       "\n",
       "    .dataframe tbody tr th {\n",
       "        vertical-align: top;\n",
       "    }\n",
       "\n",
       "    .dataframe thead th {\n",
       "        text-align: right;\n",
       "    }\n",
       "</style>\n",
       "<table border=\"1\" class=\"dataframe\">\n",
       "  <thead>\n",
       "    <tr style=\"text-align: right;\">\n",
       "      <th></th>\n",
       "      <th>unique_id</th>\n",
       "      <th>adjpoll_clinton</th>\n",
       "      <th>adjpoll_trump</th>\n",
       "      <th>index_1</th>\n",
       "      <th>handle</th>\n",
       "      <th>fecha</th>\n",
       "      <th>index_weighted</th>\n",
       "    </tr>\n",
       "  </thead>\n",
       "  <tbody>\n",
       "    <tr>\n",
       "      <th>56</th>\n",
       "      <td>20161031_Clinton vs. Trump</td>\n",
       "      <td>41.573255</td>\n",
       "      <td>41.696260</td>\n",
       "      <td>836269.405366</td>\n",
       "      <td>Clinton vs. Trump</td>\n",
       "      <td>2016-10-31</td>\n",
       "      <td>3.038559e+01</td>\n",
       "    </tr>\n",
       "    <tr>\n",
       "      <th>55</th>\n",
       "      <td>20161030_Clinton vs. Trump</td>\n",
       "      <td>43.414542</td>\n",
       "      <td>42.305003</td>\n",
       "      <td>539528.071579</td>\n",
       "      <td>Clinton vs. Trump</td>\n",
       "      <td>2016-10-30</td>\n",
       "      <td>1.960359e+01</td>\n",
       "    </tr>\n",
       "    <tr>\n",
       "      <th>50</th>\n",
       "      <td>20161026_Clinton vs. Trump</td>\n",
       "      <td>43.414019</td>\n",
       "      <td>42.505220</td>\n",
       "      <td>157505.713698</td>\n",
       "      <td>Clinton vs. Trump</td>\n",
       "      <td>2016-10-26</td>\n",
       "      <td>5.722922e+00</td>\n",
       "    </tr>\n",
       "    <tr>\n",
       "      <th>48</th>\n",
       "      <td>20161024_Clinton vs. Trump</td>\n",
       "      <td>42.276659</td>\n",
       "      <td>42.081514</td>\n",
       "      <td>130329.739849</td>\n",
       "      <td>Clinton vs. Trump</td>\n",
       "      <td>2016-10-24</td>\n",
       "      <td>4.735491e+00</td>\n",
       "    </tr>\n",
       "    <tr>\n",
       "      <th>49</th>\n",
       "      <td>20161025_Clinton vs. Trump</td>\n",
       "      <td>42.817695</td>\n",
       "      <td>42.847738</td>\n",
       "      <td>94949.477702</td>\n",
       "      <td>Clinton vs. Trump</td>\n",
       "      <td>2016-10-25</td>\n",
       "      <td>3.449960e+00</td>\n",
       "    </tr>\n",
       "    <tr>\n",
       "      <th>...</th>\n",
       "      <td>...</td>\n",
       "      <td>...</td>\n",
       "      <td>...</td>\n",
       "      <td>...</td>\n",
       "      <td>...</td>\n",
       "      <td>...</td>\n",
       "      <td>...</td>\n",
       "    </tr>\n",
       "    <tr>\n",
       "      <th>85</th>\n",
       "      <td>201612_Clinton vs. Trump</td>\n",
       "      <td>41.400150</td>\n",
       "      <td>34.712460</td>\n",
       "      <td>0.000008</td>\n",
       "      <td>Clinton vs. Trump</td>\n",
       "      <td>2016-01-02</td>\n",
       "      <td>2.742575e-10</td>\n",
       "    </tr>\n",
       "    <tr>\n",
       "      <th>12</th>\n",
       "      <td>20151218_Clinton vs. Trump</td>\n",
       "      <td>41.481583</td>\n",
       "      <td>29.224453</td>\n",
       "      <td>0.000006</td>\n",
       "      <td>Clinton vs. Trump</td>\n",
       "      <td>2015-12-18</td>\n",
       "      <td>2.093256e-10</td>\n",
       "    </tr>\n",
       "    <tr>\n",
       "      <th>74</th>\n",
       "      <td>201611_Clinton vs. Trump</td>\n",
       "      <td>35.904453</td>\n",
       "      <td>39.987013</td>\n",
       "      <td>0.000002</td>\n",
       "      <td>Clinton vs. Trump</td>\n",
       "      <td>2016-01-01</td>\n",
       "      <td>6.213233e-11</td>\n",
       "    </tr>\n",
       "    <tr>\n",
       "      <th>9</th>\n",
       "      <td>20151214_Clinton vs. Trump</td>\n",
       "      <td>26.044347</td>\n",
       "      <td>32.875730</td>\n",
       "      <td>0.000000</td>\n",
       "      <td>Clinton vs. Trump</td>\n",
       "      <td>2015-12-14</td>\n",
       "      <td>0.000000e+00</td>\n",
       "    </tr>\n",
       "    <tr>\n",
       "      <th>1</th>\n",
       "      <td>20151115_Clinton vs. Trump</td>\n",
       "      <td>41.707332</td>\n",
       "      <td>41.849163</td>\n",
       "      <td>0.000000</td>\n",
       "      <td>Clinton vs. Trump</td>\n",
       "      <td>2015-11-15</td>\n",
       "      <td>0.000000e+00</td>\n",
       "    </tr>\n",
       "  </tbody>\n",
       "</table>\n",
       "<p>338 rows × 7 columns</p>\n",
       "</div>"
      ],
      "text/plain": [
       "                     unique_id  adjpoll_clinton  adjpoll_trump        index_1  \\\n",
       "56  20161031_Clinton vs. Trump        41.573255      41.696260  836269.405366   \n",
       "55  20161030_Clinton vs. Trump        43.414542      42.305003  539528.071579   \n",
       "50  20161026_Clinton vs. Trump        43.414019      42.505220  157505.713698   \n",
       "48  20161024_Clinton vs. Trump        42.276659      42.081514  130329.739849   \n",
       "49  20161025_Clinton vs. Trump        42.817695      42.847738   94949.477702   \n",
       "..                         ...              ...            ...            ...   \n",
       "85    201612_Clinton vs. Trump        41.400150      34.712460       0.000008   \n",
       "12  20151218_Clinton vs. Trump        41.481583      29.224453       0.000006   \n",
       "74    201611_Clinton vs. Trump        35.904453      39.987013       0.000002   \n",
       "9   20151214_Clinton vs. Trump        26.044347      32.875730       0.000000   \n",
       "1   20151115_Clinton vs. Trump        41.707332      41.849163       0.000000   \n",
       "\n",
       "               handle      fecha  index_weighted  \n",
       "56  Clinton vs. Trump 2016-10-31    3.038559e+01  \n",
       "55  Clinton vs. Trump 2016-10-30    1.960359e+01  \n",
       "50  Clinton vs. Trump 2016-10-26    5.722922e+00  \n",
       "48  Clinton vs. Trump 2016-10-24    4.735491e+00  \n",
       "49  Clinton vs. Trump 2016-10-25    3.449960e+00  \n",
       "..                ...        ...             ...  \n",
       "85  Clinton vs. Trump 2016-01-02    2.742575e-10  \n",
       "12  Clinton vs. Trump 2015-12-18    2.093256e-10  \n",
       "74  Clinton vs. Trump 2016-01-01    6.213233e-11  \n",
       "9   Clinton vs. Trump 2015-12-14    0.000000e+00  \n",
       "1   Clinton vs. Trump 2015-11-15    0.000000e+00  \n",
       "\n",
       "[338 rows x 7 columns]"
      ]
     },
     "execution_count": 47,
     "metadata": {},
     "output_type": "execute_result"
    }
   ],
   "source": [
    "df_elec.sort_values('index_1' , ascending = False)"
   ]
  },
  {
   "cell_type": "code",
   "execution_count": 48,
   "id": "d7e38204",
   "metadata": {},
   "outputs": [],
   "source": [
    "df_elec.drop(['index_1'], axis = 1, inplace =True)\n"
   ]
  },
  {
   "cell_type": "code",
   "execution_count": 49,
   "id": "7a081926",
   "metadata": {},
   "outputs": [],
   "source": [
    "df_elec.set_index(['unique_id'], inplace = True)"
   ]
  },
  {
   "cell_type": "code",
   "execution_count": 50,
   "id": "8c942f92",
   "metadata": {},
   "outputs": [
    {
     "data": {
      "text/plain": [
       "(338, 5)"
      ]
     },
     "execution_count": 50,
     "metadata": {},
     "output_type": "execute_result"
    }
   ],
   "source": [
    "df_elec.shape"
   ]
  },
  {
   "cell_type": "code",
   "execution_count": 51,
   "id": "20713aa6",
   "metadata": {},
   "outputs": [],
   "source": [
    "df_elec.to_csv('../data/pollsclean.csv')"
   ]
  },
  {
   "cell_type": "code",
   "execution_count": 52,
   "id": "20bd6156",
   "metadata": {},
   "outputs": [
    {
     "data": {
      "text/plain": [
       "adjpoll_clinton           float64\n",
       "adjpoll_trump             float64\n",
       "handle                     object\n",
       "fecha              datetime64[ns]\n",
       "index_weighted            float64\n",
       "dtype: object"
      ]
     },
     "execution_count": 52,
     "metadata": {},
     "output_type": "execute_result"
    }
   ],
   "source": [
    "df_elec.dtypes"
   ]
  },
  {
   "cell_type": "code",
   "execution_count": null,
   "id": "f4c4a6fd",
   "metadata": {},
   "outputs": [],
   "source": []
  }
 ],
 "metadata": {
  "kernelspec": {
   "display_name": "Python 3 (ipykernel)",
   "language": "python",
   "name": "python3"
  },
  "language_info": {
   "codemirror_mode": {
    "name": "ipython",
    "version": 3
   },
   "file_extension": ".py",
   "mimetype": "text/x-python",
   "name": "python",
   "nbconvert_exporter": "python",
   "pygments_lexer": "ipython3",
   "version": "3.9.7"
  }
 },
 "nbformat": 4,
 "nbformat_minor": 5
}
